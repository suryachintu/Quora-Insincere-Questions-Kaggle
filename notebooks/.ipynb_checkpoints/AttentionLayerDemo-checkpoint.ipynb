{
 "cells": [
  {
   "cell_type": "code",
   "execution_count": 1,
   "metadata": {},
   "outputs": [],
   "source": [
    "import numpy as np"
   ]
  },
  {
   "cell_type": "code",
   "execution_count": 2,
   "metadata": {},
   "outputs": [],
   "source": [
    "batch_size = 32\n",
    "timesteps = 60\n",
    "feature_dim = 128\n",
    "steps_dim = 60"
   ]
  },
  {
   "cell_type": "code",
   "execution_count": 3,
   "metadata": {},
   "outputs": [
    {
     "data": {
      "text/plain": [
       "(128,)"
      ]
     },
     "execution_count": 3,
     "metadata": {},
     "output_type": "execute_result"
    }
   ],
   "source": [
    "# weight vector\n",
    "W = np.random.randint(5, size=(feature_dim, ))\n",
    "W.shape"
   ]
  },
  {
   "cell_type": "markdown",
   "metadata": {},
   "source": [
    "\\begin{align}\n",
    "e_{t} & = \\tanh(W_a*h_t + b_a) \\\\\n",
    "\\alpha_{t} & = exp^{e_t} /(\\sum_{k=1}^t exp^{e_t}) \\\\ \n",
    "c & = \\sum_{k=1}^t \\alpha_k * h_k \\\\ \n",
    "\\end{align}"
   ]
  },
  {
   "cell_type": "markdown",
   "metadata": {},
   "source": [
    "#### Step 1"
   ]
  },
  {
   "cell_type": "markdown",
   "metadata": {},
   "source": [
    "\\begin{align}\n",
    "e_{t} & = \\tanh(W_a*h_t + b_a) \\\\\n",
    "\\end{align}"
   ]
  },
  {
   "cell_type": "markdown",
   "metadata": {},
   "source": [
    "1. From Bi directional LSTM we have set return_sequences=True thus it generates sequences\n",
    "2. We have set max sequence length 60 thus timesteps will be 60\n",
    "3. Each timestep is a 128 dimensional vector\n",
    "4. Output at each timestep is 128 dimensional vector\n",
    "5. 60 timesteps then h will (60, 128)\n",
    "6. for 30 batches its is (30, 60, 128)\n",
    "7. Output from LSTM Layer will be (batch_size, timesteps, feature_dim) ==> (32, 60, 128)"
   ]
  },
  {
   "cell_type": "code",
   "execution_count": 4,
   "metadata": {},
   "outputs": [
    {
     "name": "stdout",
     "output_type": "stream",
     "text": [
      "Shape of input vector: (32, 60, 128)\n"
     ]
    },
    {
     "data": {
      "text/plain": [
       "array([[[3, 4, 3, ..., 4, 0, 1],\n",
       "        [4, 3, 0, ..., 2, 3, 1],\n",
       "        [0, 4, 2, ..., 2, 3, 1],\n",
       "        ...,\n",
       "        [4, 0, 1, ..., 3, 2, 1],\n",
       "        [0, 0, 2, ..., 1, 4, 4],\n",
       "        [0, 2, 3, ..., 3, 1, 4]],\n",
       "\n",
       "       [[3, 2, 0, ..., 2, 2, 3],\n",
       "        [2, 3, 0, ..., 0, 1, 1],\n",
       "        [4, 4, 3, ..., 2, 3, 0],\n",
       "        ...,\n",
       "        [2, 4, 1, ..., 4, 2, 0],\n",
       "        [2, 1, 4, ..., 4, 2, 2],\n",
       "        [0, 3, 4, ..., 4, 3, 2]]])"
      ]
     },
     "execution_count": 4,
     "metadata": {},
     "output_type": "execute_result"
    }
   ],
   "source": [
    "input_vector = np.random.randint(5, size=(batch_size, timesteps, feature_dim))\n",
    "print(\"Shape of input vector:\", input_vector.shape)\n",
    "input_vector[:2,:, : ]"
   ]
  },
  {
   "cell_type": "code",
   "execution_count": 5,
   "metadata": {},
   "outputs": [
    {
     "data": {
      "text/plain": [
       "(1920, 128)"
      ]
     },
     "execution_count": 5,
     "metadata": {},
     "output_type": "execute_result"
    }
   ],
   "source": [
    "# reshape the array to [batch_size * timesteps, feature_dim]\n",
    "# batch_input_h_t ==> Will be all h_t(output at timestamp t) of every batch\n",
    "# batch_size=32, timesteps=60 ==> 1920 h_t\n",
    "batch_input_h_t = np.reshape(input_vector, (-1, feature_dim))\n",
    "batch_input_h_t.shape"
   ]
  },
  {
   "cell_type": "code",
   "execution_count": 6,
   "metadata": {},
   "outputs": [
    {
     "data": {
      "text/plain": [
       "(128, 1)"
      ]
     },
     "execution_count": 6,
     "metadata": {},
     "output_type": "execute_result"
    }
   ],
   "source": [
    "# reshape weights vector to (feature_dim, 1) from (feature_dim, 1)\n",
    "W_reshaped = np.reshape(W, (feature_dim, 1))\n",
    "W_reshaped.shape"
   ]
  },
  {
   "cell_type": "code",
   "execution_count": 7,
   "metadata": {},
   "outputs": [
    {
     "data": {
      "text/plain": [
       "(1920, 1)"
      ]
     },
     "execution_count": 7,
     "metadata": {},
     "output_type": "execute_result"
    }
   ],
   "source": [
    "# Multiply weights and h_t(output at timestamp t)\n",
    "eij = np.dot(batch_input_h_t, W_reshaped)\n",
    "eij.shape"
   ]
  },
  {
   "cell_type": "code",
   "execution_count": 8,
   "metadata": {},
   "outputs": [
    {
     "name": "stdout",
     "output_type": "stream",
     "text": [
      "(32, 60)\n"
     ]
    }
   ],
   "source": [
    "# reshape to (batch_size, timestamps) ==> (32, 60)\n",
    "eij = eij.reshape(-1, steps_dim)\n",
    "print(eij.shape)"
   ]
  },
  {
   "cell_type": "code",
   "execution_count": 9,
   "metadata": {},
   "outputs": [
    {
     "data": {
      "text/plain": [
       "array([0, 1, 4, 0, 1, 2, 0, 3, 1, 4, 3, 0, 4, 0, 1, 0, 3, 2, 4, 2, 0, 2,\n",
       "       3, 1, 0, 2, 0, 3, 1, 0, 2, 2, 1, 3, 2, 3, 2, 3, 0, 1, 3, 1, 4, 3,\n",
       "       0, 2, 4, 1, 0, 0, 3, 1, 0, 2, 3, 3, 3, 4, 1, 0])"
      ]
     },
     "execution_count": 9,
     "metadata": {},
     "output_type": "execute_result"
    }
   ],
   "source": [
    "# bias\n",
    "bias = np.random.randint(5, size=(steps_dim,))\n",
    "bias"
   ]
  },
  {
   "cell_type": "code",
   "execution_count": 10,
   "metadata": {},
   "outputs": [
    {
     "name": "stdout",
     "output_type": "stream",
     "text": [
      "(32, 60)\n"
     ]
    }
   ],
   "source": [
    "# add bias \n",
    "eij = eij + bias\n",
    "print(eij.shape)"
   ]
  },
  {
   "cell_type": "code",
   "execution_count": 11,
   "metadata": {},
   "outputs": [
    {
     "name": "stdout",
     "output_type": "stream",
     "text": [
      "(32, 60)\n"
     ]
    }
   ],
   "source": [
    "# Apply tanh\n",
    "eij = np.tanh(eij)\n",
    "print(eij.shape)"
   ]
  },
  {
   "cell_type": "markdown",
   "metadata": {},
   "source": [
    "#### Step 2"
   ]
  },
  {
   "cell_type": "markdown",
   "metadata": {},
   "source": [
    "\\begin{align}\n",
    "\\alpha_{t} & = exp^{e_t} /(\\sum_{k=1}^t exp^{e_t}) \\\\  \n",
    "\\end{align}"
   ]
  },
  {
   "cell_type": "code",
   "execution_count": 12,
   "metadata": {},
   "outputs": [
    {
     "name": "stdout",
     "output_type": "stream",
     "text": [
      "(32, 60)\n"
     ]
    }
   ],
   "source": [
    "# calculate exponent of each input\n",
    "a = np.exp(eij)\n",
    "print(a.shape)"
   ]
  },
  {
   "cell_type": "code",
   "execution_count": 13,
   "metadata": {},
   "outputs": [
    {
     "name": "stdout",
     "output_type": "stream",
     "text": [
      "(32, 1)\n"
     ]
    }
   ],
   "source": [
    "# calculate sum of all timesteps\n",
    "a_sum = np.sum(a, axis=1, keepdims=True)\n",
    "# output will have (batch_size, 1)\n",
    "print(a_sum.shape)"
   ]
  },
  {
   "cell_type": "code",
   "execution_count": 14,
   "metadata": {},
   "outputs": [
    {
     "name": "stdout",
     "output_type": "stream",
     "text": [
      "(32, 60)\n"
     ]
    }
   ],
   "source": [
    "# calculate alpha_t\n",
    "alpha_t = a/a_sum\n",
    "print(alpha_t.shape)"
   ]
  },
  {
   "cell_type": "code",
   "execution_count": 15,
   "metadata": {},
   "outputs": [
    {
     "name": "stdout",
     "output_type": "stream",
     "text": [
      "(32, 60, 1)\n"
     ]
    }
   ],
   "source": [
    "# expand dimensions \n",
    "alpha_t = np.expand_dims(alpha_t, axis=-1)\n",
    "print(alpha_t.shape)"
   ]
  },
  {
   "cell_type": "markdown",
   "metadata": {},
   "source": [
    "#### Step 3"
   ]
  },
  {
   "cell_type": "markdown",
   "metadata": {},
   "source": [
    "\\begin{align}\n",
    "c & = \\sum_{k=1}^t \\alpha_k * h_k \\\\ \n",
    "\\end{align}"
   ]
  },
  {
   "cell_type": "code",
   "execution_count": 16,
   "metadata": {},
   "outputs": [
    {
     "name": "stdout",
     "output_type": "stream",
     "text": [
      "(32, 60, 128)\n"
     ]
    }
   ],
   "source": [
    "# We have alpha_t and h_t\n",
    "# multiply both of them\n",
    "alpha_t_h_t = input_vector * alpha_t\n",
    "print(alpha_t_h_t.shape)"
   ]
  },
  {
   "cell_type": "code",
   "execution_count": 17,
   "metadata": {},
   "outputs": [
    {
     "name": "stdout",
     "output_type": "stream",
     "text": [
      "(32, 128)\n"
     ]
    }
   ],
   "source": [
    "# Sum all timesteps\n",
    "c = np.sum(alpha_t_h_t, axis=1)\n",
    "print(c.shape)"
   ]
  }
 ],
 "metadata": {
  "kernelspec": {
   "display_name": "Python 3",
   "language": "python",
   "name": "python3"
  },
  "language_info": {
   "codemirror_mode": {
    "name": "ipython",
    "version": 3
   },
   "file_extension": ".py",
   "mimetype": "text/x-python",
   "name": "python",
   "nbconvert_exporter": "python",
   "pygments_lexer": "ipython3",
   "version": "3.6.5"
  }
 },
 "nbformat": 4,
 "nbformat_minor": 2
}
