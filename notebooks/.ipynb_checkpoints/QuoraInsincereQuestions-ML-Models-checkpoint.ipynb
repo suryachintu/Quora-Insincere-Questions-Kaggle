{
 "cells": [
  {
   "cell_type": "markdown",
   "metadata": {},
   "source": [
    "<h1>Quora Insincere Questions Classification</h1>"
   ]
  },
  {
   "cell_type": "markdown",
   "metadata": {},
   "source": [
    "<b>Problem Statement: </b>\n",
    "An existential problem for any major website today is how to handle toxic and divisive content. Quora wants to tackle this problem head-on to keep their platform a place where users can feel safe sharing their knowledge with the world.\n",
    "\n",
    "Quora is a platform that empowers people to learn from each other. On Quora, people can ask questions and connect with others who contribute unique insights and quality answers. A key challenge is to weed out insincere questions -- those founded upon false premises, or that intend to make a statement rather than look for helpful answers.\n",
    "\n",
    "The aim of the problem is to detect toxic and misleading content in given a question.\n",
    "\n",
    "An insincere question is defined as a question intended to make a statement rather than look for helpful answers. Some characteristics that can signify that a question is insincere:\n",
    "\n",
    "<ul>\n",
    "    <li>Has a non-neutral tone.\n",
    "        <ul>\n",
    "            <li>Has an exaggerated tone to underscore a point about a group of people.</li>\n",
    "            <li>Is rhetorical and meant to imply a statement about a group of people.</li>\n",
    "        </ul>\n",
    "    </li>\n",
    "    <li>Is disparaging or inflammatory.\n",
    "        <ul>\n",
    "            <li>Suggests a discriminatory idea against a protected class of people, or seeks confirmation of a stereotype.</li>\n",
    "            <li>Makes disparaging attacks/insults against a specific person or group of people.</li>\n",
    "            <li>Based on an outlandish premise about a group of people.</li>\n",
    "            <li>Disparages against a characteristic that is not fixable and not measurable.</li>\n",
    "        </ul>\n",
    "    </li>\n",
    "    <li>Isn't grounded in reality.\n",
    "        <ul>\n",
    "            <li>Based on false information, or contains absurd assumptions</li>\n",
    "        </ul>\n",
    "    </li>\n",
    "    <li>Uses sexual content (incest, bestiality, pedophilia) for shock value, and not to seek genuine answers.</li>\n",
    "    \n",
    "</ul>\n",
    "\n",
    "Source :: https://www.kaggle.com/c/quora-insincere-questions-classification/overview/description\n",
    "<br/><br/>\n",
    "\n",
    "<b>Evaluation Metric: F1 Score</b>\n",
    "\n",
    "F1-Score = 2 x (precision x recall) / (precision + recall)\n",
    "\n",
    "<b>Precision:</b> The precision is the ratio tp / (tp + fp) where tp is the number of true positives and fp the number of false positives. The precision is intuitively the ability of the classifier not to label as positive a sample that is negative.\n",
    "\n",
    "<b>Recall:</b> The recall is the ratio tp / (tp + fn) where tp is the number of true positives and fn the number of false negatives. The recall is intuitively the ability of the classifier to find all the positive samples."
   ]
  },
  {
   "cell_type": "markdown",
   "metadata": {},
   "source": [
    "<b>Dataset Description</b>\n",
    "\n",
    "The dataset is divided into two parts<br/>\n",
    "<ol>\n",
    "    <li>Train</li>\n",
    "    <li>Test</li>\n",
    "</ol>\n",
    "\n",
    "<b>1. Train </b>\n",
    "\n",
    "Number of rows: 1.31 Million records.<br/>\n",
    "Number of columns: 3 <br/>\n",
    "\n",
    "Columns:\n",
    "<ul>\n",
    "    <li><b>qid: </b> Question Id</li>\n",
    "    <li><b>question_text: </b> Question text.</li>\n",
    "    <li><b>target: </b> target whether the question is sincere or not. if question is insincere then target is 1 else 0.</li>    \n",
    "</ul>\n",
    "\n",
    "<b>1. Test </b>\n",
    "\n",
    "Number of rows: 376000 records.<br/>\n",
    "Number of columns: 2 <br/>\n",
    "\n",
    "Columns:\n",
    "<ul>\n",
    "    <li><b>qid: </b> Question Id</li>\n",
    "    <li><b>question_text: </b> Question text.</li>\n",
    "</ul>"
   ]
  },
  {
   "cell_type": "code",
   "execution_count": 1,
   "metadata": {},
   "outputs": [],
   "source": [
    "import numpy as np\n",
    "import pandas as pd\n",
    "import matplotlib.pyplot as plt\n",
    "# import seaborn as sns\n",
    "from bs4 import BeautifulSoup\n",
    "from nltk.stem import PorterStemmer\n",
    "from nltk.tokenize import word_tokenize\n",
    "from nltk.stem import WordNetLemmatizer\n",
    "import re\n",
    "import operator \n",
    "from tqdm import tqdm_notebook as tqdm\n",
    "from sklearn.metrics import f1_score, confusion_matrix\n",
    "from sklearn.model_selection import GridSearchCV\n",
    "from sklearn.model_selection import train_test_split\n",
    "from sklearn.naive_bayes import MultinomialNB\n",
    "from sklearn.linear_model import LogisticRegression\n",
    "from sklearn.feature_extraction.text import CountVectorizer\n",
    "from sklearn.feature_extraction.text import TfidfVectorizer\n",
    "import warnings\n",
    "warnings.filterwarnings('ignore')"
   ]
  },
  {
   "cell_type": "markdown",
   "metadata": {},
   "source": [
    "### Load the dataset"
   ]
  },
  {
   "cell_type": "code",
   "execution_count": 2,
   "metadata": {},
   "outputs": [],
   "source": [
    "train_df = pd.read_csv('final_cleaned_df.csv')"
   ]
  },
  {
   "cell_type": "code",
   "execution_count": 3,
   "metadata": {},
   "outputs": [
    {
     "data": {
      "text/html": [
       "<div>\n",
       "<style scoped>\n",
       "    .dataframe tbody tr th:only-of-type {\n",
       "        vertical-align: middle;\n",
       "    }\n",
       "\n",
       "    .dataframe tbody tr th {\n",
       "        vertical-align: top;\n",
       "    }\n",
       "\n",
       "    .dataframe thead th {\n",
       "        text-align: right;\n",
       "    }\n",
       "</style>\n",
       "<table border=\"1\" class=\"dataframe\">\n",
       "  <thead>\n",
       "    <tr style=\"text-align: right;\">\n",
       "      <th></th>\n",
       "      <th>qid</th>\n",
       "      <th>target</th>\n",
       "      <th>final_cleaned_text</th>\n",
       "    </tr>\n",
       "  </thead>\n",
       "  <tbody>\n",
       "    <tr>\n",
       "      <td>0</td>\n",
       "      <td>00002165364db923c7e6</td>\n",
       "      <td>0</td>\n",
       "      <td>how did quebec nationalists see their province...</td>\n",
       "    </tr>\n",
       "    <tr>\n",
       "      <td>1</td>\n",
       "      <td>000032939017120e6e44</td>\n",
       "      <td>0</td>\n",
       "      <td>do you have an adopted dog how would you encou...</td>\n",
       "    </tr>\n",
       "    <tr>\n",
       "      <td>2</td>\n",
       "      <td>0000412ca6e4628ce2cf</td>\n",
       "      <td>0</td>\n",
       "      <td>why does velocity affect time does velocity af...</td>\n",
       "    </tr>\n",
       "    <tr>\n",
       "      <td>3</td>\n",
       "      <td>000042bf85aa498cd78e</td>\n",
       "      <td>0</td>\n",
       "      <td>how did otto von guericke used the magdeburg h...</td>\n",
       "    </tr>\n",
       "    <tr>\n",
       "      <td>4</td>\n",
       "      <td>0000455dfa3e01eae3af</td>\n",
       "      <td>0</td>\n",
       "      <td>can i convert montra helicon d to a mountain b...</td>\n",
       "    </tr>\n",
       "  </tbody>\n",
       "</table>\n",
       "</div>"
      ],
      "text/plain": [
       "                    qid  target  \\\n",
       "0  00002165364db923c7e6       0   \n",
       "1  000032939017120e6e44       0   \n",
       "2  0000412ca6e4628ce2cf       0   \n",
       "3  000042bf85aa498cd78e       0   \n",
       "4  0000455dfa3e01eae3af       0   \n",
       "\n",
       "                                  final_cleaned_text  \n",
       "0  how did quebec nationalists see their province...  \n",
       "1  do you have an adopted dog how would you encou...  \n",
       "2  why does velocity affect time does velocity af...  \n",
       "3  how did otto von guericke used the magdeburg h...  \n",
       "4  can i convert montra helicon d to a mountain b...  "
      ]
     },
     "execution_count": 3,
     "metadata": {},
     "output_type": "execute_result"
    }
   ],
   "source": [
    "train_df.head()"
   ]
  },
  {
   "cell_type": "code",
   "execution_count": 4,
   "metadata": {},
   "outputs": [],
   "source": [
    "X_train, X_test, y_train, y_test = train_test_split(train_df['final_cleaned_text'], train_df['target'], \\\n",
    "                                                     test_size=0.30, stratify=train_df['target'], random_state=42)"
   ]
  },
  {
   "cell_type": "code",
   "execution_count": 5,
   "metadata": {},
   "outputs": [
    {
     "name": "stdout",
     "output_type": "stream",
     "text": [
      "Train data shape: (914285,)\n",
      "Test data shape: (391837,)\n"
     ]
    }
   ],
   "source": [
    "print('Train data shape:', X_train.shape)\n",
    "print('Test data shape:', X_test.shape)"
   ]
  },
  {
   "cell_type": "markdown",
   "metadata": {},
   "source": [
    "### Count Vectorizer"
   ]
  },
  {
   "cell_type": "code",
   "execution_count": 6,
   "metadata": {},
   "outputs": [],
   "source": [
    "import nltk\n",
    "from nltk.corpus import stopwords\n",
    "stopwords_eng = set(stopwords.words('english'))"
   ]
  },
  {
   "cell_type": "code",
   "execution_count": 7,
   "metadata": {
    "scrolled": true
   },
   "outputs": [
    {
     "name": "stdout",
     "output_type": "stream",
     "text": [
      "CPU times: user 1min 34s, sys: 3.78 s, total: 1min 38s\n",
      "Wall time: 1min 38s\n"
     ]
    }
   ],
   "source": [
    "%%time\n",
    "count_vect = CountVectorizer(ngram_range=(2, 4), stop_words=stopwords_eng, binary=True)\n",
    "train_count_vect = count_vect.fit_transform(X_train.values)\n",
    "test_count_vect = count_vect.transform(X_test.values)"
   ]
  },
  {
   "cell_type": "code",
   "execution_count": 8,
   "metadata": {},
   "outputs": [
    {
     "name": "stdout",
     "output_type": "stream",
     "text": [
      "Train vector shape: (914285, 9426140)\n",
      "Test vector shape: (391837, 9426140)\n"
     ]
    }
   ],
   "source": [
    "print('Train vector shape:', train_count_vect.shape)\n",
    "print('Test vector shape:', test_count_vect.shape)"
   ]
  },
  {
   "cell_type": "code",
   "execution_count": 9,
   "metadata": {},
   "outputs": [
    {
     "data": {
      "text/plain": [
       "['aa aa',\n",
       " 'aa aa qualifier',\n",
       " 'aa aaa',\n",
       " 'aa aaa batteries',\n",
       " 'aa aaa batteries expensive']"
      ]
     },
     "execution_count": 9,
     "metadata": {},
     "output_type": "execute_result"
    }
   ],
   "source": [
    "count_vect.get_feature_names()[:5]"
   ]
  },
  {
   "cell_type": "code",
   "execution_count": 10,
   "metadata": {},
   "outputs": [],
   "source": [
    "# Source: Refer https://scikit-learn.org/stable/auto_examples/model_selection/plot_confusion_matrix.html\n",
    "import itertools\n",
    "def plot_confusion_matrix(cm, classes,\n",
    "                          normalize=False,\n",
    "                          title='Confusion matrix',\n",
    "                          cmap=plt.cm.Blues):\n",
    "    \"\"\"\n",
    "    This function prints and plots the confusion matrix.\n",
    "    Normalization can be applied by setting `normalize=True`.\n",
    "    \"\"\"\n",
    "    if normalize:\n",
    "        cm = cm.astype('float') / cm.sum(axis=1)[:, np.newaxis]\n",
    "        print(\"Normalized confusion matrix\")\n",
    "    else:\n",
    "        print('Confusion matrix, without normalization')\n",
    "\n",
    "#     print(cm)\n",
    "#     plt.figure(figsize=(20,10))\n",
    "    plt.imshow(cm, interpolation='nearest', cmap=cmap)\n",
    "    plt.title(title)\n",
    "    plt.colorbar()\n",
    "    tick_marks = np.arange(len(classes))\n",
    "    plt.xticks(tick_marks, classes, rotation=60)\n",
    "    plt.yticks(tick_marks, classes)\n",
    "\n",
    "    fmt = '.2f' if normalize else 'd'\n",
    "    thresh = cm.max() / 2.\n",
    "    for i, j in itertools.product(range(cm.shape[0]), range(cm.shape[1])):\n",
    "        plt.text(j, i, format(cm[i, j], fmt),\n",
    "                 horizontalalignment=\"center\",\n",
    "                 verticalalignment=\"center\",\n",
    "                 color=\"white\" if cm[i, j] > thresh else \"black\")\n",
    "\n",
    "    plt.ylabel('True label')\n",
    "    plt.xlabel('Predicted label')\n",
    "    plt.tight_layout()\n",
    "    plt.show()"
   ]
  },
  {
   "cell_type": "code",
   "execution_count": 11,
   "metadata": {},
   "outputs": [],
   "source": [
    "def plot_results(cvdf, param, title, logFlag=False):\n",
    "    '''\n",
    "    Helper method for plotting auc plot of training and cross validation set\n",
    "    @param:cvdf  --> Cross Validation results dataframe\n",
    "    @param:title --> Plot title\n",
    "    '''\n",
    "    plt.figure(figsize=(13,6))\n",
    "    plt.subplot(1, 2, 1)\n",
    "    plt.plot([np.log10(i) if logFlag else i for i in cvdf['param_' + param].values], \\\n",
    "                         cvdf['mean_train_score'].values, label='Train F1 Score')\n",
    "    plt.plot([np.log10(i) if logFlag else i for i in cvdf['param_' + param].values], \\\n",
    "                         cvdf['mean_test_score'].values, label='Validation F1 Score')\n",
    "    plt.xlabel(f'log{param}' if logFlag else param)\n",
    "    plt.ylabel('f1 score')\n",
    "    plt.legend()\n",
    "    plt.title(title)\n",
    "    plt.show()"
   ]
  },
  {
   "cell_type": "markdown",
   "metadata": {},
   "source": [
    "### Naive Bayes"
   ]
  },
  {
   "cell_type": "code",
   "execution_count": 12,
   "metadata": {},
   "outputs": [
    {
     "name": "stdout",
     "output_type": "stream",
     "text": [
      "Fitting 5 folds for each of 16 candidates, totalling 80 fits\n"
     ]
    },
    {
     "name": "stderr",
     "output_type": "stream",
     "text": [
      "[Parallel(n_jobs=-1)]: Using backend LokyBackend with 8 concurrent workers.\n",
      "[Parallel(n_jobs=-1)]: Done   2 tasks      | elapsed:    3.8s\n",
      "[Parallel(n_jobs=-1)]: Done   9 tasks      | elapsed:    6.5s\n",
      "[Parallel(n_jobs=-1)]: Done  16 tasks      | elapsed:    6.9s\n",
      "[Parallel(n_jobs=-1)]: Done  25 tasks      | elapsed:   12.0s\n",
      "[Parallel(n_jobs=-1)]: Done  34 tasks      | elapsed:   14.8s\n",
      "[Parallel(n_jobs=-1)]: Done  45 tasks      | elapsed:   17.7s\n",
      "[Parallel(n_jobs=-1)]: Done  56 tasks      | elapsed:   20.6s\n",
      "[Parallel(n_jobs=-1)]: Done  74 out of  80 | elapsed:   28.4s remaining:    2.3s\n",
      "[Parallel(n_jobs=-1)]: Done  80 out of  80 | elapsed:   28.7s finished\n"
     ]
    },
    {
     "data": {
      "text/plain": [
       "GridSearchCV(cv=5, error_score='raise-deprecating',\n",
       "       estimator=MultinomialNB(alpha=1.0, class_prior=None, fit_prior=True),\n",
       "       fit_params=None, iid='warn', n_jobs=-1,\n",
       "       param_grid={'alpha': [1e-15, 1e-14, 1e-13, 1e-12, 1e-11, 1e-10, 1e-09, 1e-08, 1e-07, 1e-06, 1e-05, 0.0001, 0.001, 0.01, 0.1, 1]},\n",
       "       pre_dispatch='2*n_jobs', refit=True, return_train_score='warn',\n",
       "       scoring='f1', verbose=10)"
      ]
     },
     "execution_count": 12,
     "metadata": {},
     "output_type": "execute_result"
    }
   ],
   "source": [
    "# Estimator as MultinomialNB for GridSearchCV\n",
    "mnb = MultinomialNB()\n",
    "# Estimator MultinomialNB\n",
    "# param_grid: Additive (Laplace/Lidstone) smoothing parameter : (10^(-10) to 10^(10))\n",
    "# cv: Cross validation with 3 fold\n",
    "# scoring: perform cross validation based on f1\n",
    "# verbose: for debugging\n",
    "clf = GridSearchCV(estimator=mnb, param_grid={'alpha': list(map(lambda x: 10**x , range(-15,1))) }, cv=5,\n",
    "                   scoring='f1',verbose=10, n_jobs=-1)\n",
    "# Fit the train samples\n",
    "clf.fit(train_count_vect, y_train.values)"
   ]
  },
  {
   "cell_type": "code",
   "execution_count": 13,
   "metadata": {},
   "outputs": [],
   "source": [
    "cvdf = pd.DataFrame.from_dict(clf.cv_results_).head()"
   ]
  },
  {
   "cell_type": "code",
   "execution_count": 14,
   "metadata": {},
   "outputs": [
    {
     "data": {
      "text/html": [
       "<div>\n",
       "<style scoped>\n",
       "    .dataframe tbody tr th:only-of-type {\n",
       "        vertical-align: middle;\n",
       "    }\n",
       "\n",
       "    .dataframe tbody tr th {\n",
       "        vertical-align: top;\n",
       "    }\n",
       "\n",
       "    .dataframe thead th {\n",
       "        text-align: right;\n",
       "    }\n",
       "</style>\n",
       "<table border=\"1\" class=\"dataframe\">\n",
       "  <thead>\n",
       "    <tr style=\"text-align: right;\">\n",
       "      <th></th>\n",
       "      <th>mean_fit_time</th>\n",
       "      <th>std_fit_time</th>\n",
       "      <th>mean_score_time</th>\n",
       "      <th>std_score_time</th>\n",
       "      <th>param_alpha</th>\n",
       "      <th>params</th>\n",
       "      <th>split0_test_score</th>\n",
       "      <th>split1_test_score</th>\n",
       "      <th>split2_test_score</th>\n",
       "      <th>split3_test_score</th>\n",
       "      <th>...</th>\n",
       "      <th>mean_test_score</th>\n",
       "      <th>std_test_score</th>\n",
       "      <th>rank_test_score</th>\n",
       "      <th>split0_train_score</th>\n",
       "      <th>split1_train_score</th>\n",
       "      <th>split2_train_score</th>\n",
       "      <th>split3_train_score</th>\n",
       "      <th>split4_train_score</th>\n",
       "      <th>mean_train_score</th>\n",
       "      <th>std_train_score</th>\n",
       "    </tr>\n",
       "  </thead>\n",
       "  <tbody>\n",
       "    <tr>\n",
       "      <td>0</td>\n",
       "      <td>1.837226</td>\n",
       "      <td>0.039138</td>\n",
       "      <td>0.333676</td>\n",
       "      <td>0.013907</td>\n",
       "      <td>1e-15</td>\n",
       "      <td>{'alpha': 1e-15}</td>\n",
       "      <td>0.255059</td>\n",
       "      <td>0.256514</td>\n",
       "      <td>0.256477</td>\n",
       "      <td>0.254807</td>\n",
       "      <td>...</td>\n",
       "      <td>0.255525</td>\n",
       "      <td>0.000799</td>\n",
       "      <td>1</td>\n",
       "      <td>0.993183</td>\n",
       "      <td>0.993073</td>\n",
       "      <td>0.992866</td>\n",
       "      <td>0.992931</td>\n",
       "      <td>0.992998</td>\n",
       "      <td>0.99301</td>\n",
       "      <td>0.000111</td>\n",
       "    </tr>\n",
       "    <tr>\n",
       "      <td>1</td>\n",
       "      <td>1.762531</td>\n",
       "      <td>0.163321</td>\n",
       "      <td>0.321120</td>\n",
       "      <td>0.014738</td>\n",
       "      <td>1e-14</td>\n",
       "      <td>{'alpha': 1e-14}</td>\n",
       "      <td>0.255059</td>\n",
       "      <td>0.256514</td>\n",
       "      <td>0.256477</td>\n",
       "      <td>0.254807</td>\n",
       "      <td>...</td>\n",
       "      <td>0.255525</td>\n",
       "      <td>0.000799</td>\n",
       "      <td>1</td>\n",
       "      <td>0.993183</td>\n",
       "      <td>0.993073</td>\n",
       "      <td>0.992866</td>\n",
       "      <td>0.992931</td>\n",
       "      <td>0.992998</td>\n",
       "      <td>0.99301</td>\n",
       "      <td>0.000111</td>\n",
       "    </tr>\n",
       "    <tr>\n",
       "      <td>2</td>\n",
       "      <td>1.581869</td>\n",
       "      <td>0.012289</td>\n",
       "      <td>0.316342</td>\n",
       "      <td>0.017157</td>\n",
       "      <td>1e-13</td>\n",
       "      <td>{'alpha': 1e-13}</td>\n",
       "      <td>0.255059</td>\n",
       "      <td>0.256514</td>\n",
       "      <td>0.256477</td>\n",
       "      <td>0.254807</td>\n",
       "      <td>...</td>\n",
       "      <td>0.255525</td>\n",
       "      <td>0.000799</td>\n",
       "      <td>1</td>\n",
       "      <td>0.993183</td>\n",
       "      <td>0.993073</td>\n",
       "      <td>0.992866</td>\n",
       "      <td>0.992931</td>\n",
       "      <td>0.992998</td>\n",
       "      <td>0.99301</td>\n",
       "      <td>0.000111</td>\n",
       "    </tr>\n",
       "    <tr>\n",
       "      <td>3</td>\n",
       "      <td>1.589861</td>\n",
       "      <td>0.018010</td>\n",
       "      <td>0.327159</td>\n",
       "      <td>0.016634</td>\n",
       "      <td>1e-12</td>\n",
       "      <td>{'alpha': 1e-12}</td>\n",
       "      <td>0.255059</td>\n",
       "      <td>0.256514</td>\n",
       "      <td>0.256477</td>\n",
       "      <td>0.254807</td>\n",
       "      <td>...</td>\n",
       "      <td>0.255525</td>\n",
       "      <td>0.000799</td>\n",
       "      <td>1</td>\n",
       "      <td>0.993183</td>\n",
       "      <td>0.993073</td>\n",
       "      <td>0.992866</td>\n",
       "      <td>0.992931</td>\n",
       "      <td>0.992998</td>\n",
       "      <td>0.99301</td>\n",
       "      <td>0.000111</td>\n",
       "    </tr>\n",
       "    <tr>\n",
       "      <td>4</td>\n",
       "      <td>1.598186</td>\n",
       "      <td>0.018979</td>\n",
       "      <td>0.319835</td>\n",
       "      <td>0.015183</td>\n",
       "      <td>1e-11</td>\n",
       "      <td>{'alpha': 1e-11}</td>\n",
       "      <td>0.255059</td>\n",
       "      <td>0.256514</td>\n",
       "      <td>0.256477</td>\n",
       "      <td>0.254807</td>\n",
       "      <td>...</td>\n",
       "      <td>0.255525</td>\n",
       "      <td>0.000799</td>\n",
       "      <td>1</td>\n",
       "      <td>0.993183</td>\n",
       "      <td>0.993073</td>\n",
       "      <td>0.992866</td>\n",
       "      <td>0.992931</td>\n",
       "      <td>0.992998</td>\n",
       "      <td>0.99301</td>\n",
       "      <td>0.000111</td>\n",
       "    </tr>\n",
       "  </tbody>\n",
       "</table>\n",
       "<p>5 rows × 21 columns</p>\n",
       "</div>"
      ],
      "text/plain": [
       "   mean_fit_time  std_fit_time  mean_score_time  std_score_time param_alpha  \\\n",
       "0       1.837226      0.039138         0.333676        0.013907       1e-15   \n",
       "1       1.762531      0.163321         0.321120        0.014738       1e-14   \n",
       "2       1.581869      0.012289         0.316342        0.017157       1e-13   \n",
       "3       1.589861      0.018010         0.327159        0.016634       1e-12   \n",
       "4       1.598186      0.018979         0.319835        0.015183       1e-11   \n",
       "\n",
       "             params  split0_test_score  split1_test_score  split2_test_score  \\\n",
       "0  {'alpha': 1e-15}           0.255059           0.256514           0.256477   \n",
       "1  {'alpha': 1e-14}           0.255059           0.256514           0.256477   \n",
       "2  {'alpha': 1e-13}           0.255059           0.256514           0.256477   \n",
       "3  {'alpha': 1e-12}           0.255059           0.256514           0.256477   \n",
       "4  {'alpha': 1e-11}           0.255059           0.256514           0.256477   \n",
       "\n",
       "   split3_test_score  ...  mean_test_score  std_test_score  rank_test_score  \\\n",
       "0           0.254807  ...         0.255525        0.000799                1   \n",
       "1           0.254807  ...         0.255525        0.000799                1   \n",
       "2           0.254807  ...         0.255525        0.000799                1   \n",
       "3           0.254807  ...         0.255525        0.000799                1   \n",
       "4           0.254807  ...         0.255525        0.000799                1   \n",
       "\n",
       "   split0_train_score  split1_train_score  split2_train_score  \\\n",
       "0            0.993183            0.993073            0.992866   \n",
       "1            0.993183            0.993073            0.992866   \n",
       "2            0.993183            0.993073            0.992866   \n",
       "3            0.993183            0.993073            0.992866   \n",
       "4            0.993183            0.993073            0.992866   \n",
       "\n",
       "   split3_train_score  split4_train_score  mean_train_score  std_train_score  \n",
       "0            0.992931            0.992998           0.99301         0.000111  \n",
       "1            0.992931            0.992998           0.99301         0.000111  \n",
       "2            0.992931            0.992998           0.99301         0.000111  \n",
       "3            0.992931            0.992998           0.99301         0.000111  \n",
       "4            0.992931            0.992998           0.99301         0.000111  \n",
       "\n",
       "[5 rows x 21 columns]"
      ]
     },
     "execution_count": 14,
     "metadata": {},
     "output_type": "execute_result"
    }
   ],
   "source": [
    "cvdf.head()"
   ]
  },
  {
   "cell_type": "code",
   "execution_count": 15,
   "metadata": {},
   "outputs": [
    {
     "data": {
      "text/plain": [
       "MultinomialNB(alpha=1e-15, class_prior=None, fit_prior=True)"
      ]
     },
     "execution_count": 15,
     "metadata": {},
     "output_type": "execute_result"
    }
   ],
   "source": [
    "clf.best_estimator_"
   ]
  },
  {
   "cell_type": "code",
   "execution_count": 16,
   "metadata": {},
   "outputs": [
    {
     "name": "stdout",
     "output_type": "stream",
     "text": [
      "Grid search best f1 score: 0.2555248538380209\n"
     ]
    }
   ],
   "source": [
    "print(\"Grid search best f1 score:\", clf.best_score_)"
   ]
  },
  {
   "cell_type": "code",
   "execution_count": 17,
   "metadata": {},
   "outputs": [
    {
     "name": "stdout",
     "output_type": "stream",
     "text": [
      "BOW train f1 score: 0.9921783374337539\n",
      "BOW test f1 score: 0.390336312376028\n"
     ]
    }
   ],
   "source": [
    "print(\"BOW train f1 score:\", f1_score(y_pred=clf.best_estimator_.predict(train_count_vect), \\\n",
    "                                      y_true=y_train.values))\n",
    "print(\"BOW test f1 score:\", f1_score(y_pred=clf.best_estimator_.predict(test_count_vect), \\\n",
    "                                     y_true=y_test.values))"
   ]
  },
  {
   "cell_type": "code",
   "execution_count": 18,
   "metadata": {},
   "outputs": [
    {
     "data": {
      "text/html": [
       "<div>\n",
       "<style scoped>\n",
       "    .dataframe tbody tr th:only-of-type {\n",
       "        vertical-align: middle;\n",
       "    }\n",
       "\n",
       "    .dataframe tbody tr th {\n",
       "        vertical-align: top;\n",
       "    }\n",
       "\n",
       "    .dataframe thead th {\n",
       "        text-align: right;\n",
       "    }\n",
       "</style>\n",
       "<table border=\"1\" class=\"dataframe\">\n",
       "  <thead>\n",
       "    <tr style=\"text-align: right;\">\n",
       "      <th></th>\n",
       "      <th>mean_fit_time</th>\n",
       "      <th>std_fit_time</th>\n",
       "      <th>mean_score_time</th>\n",
       "      <th>std_score_time</th>\n",
       "      <th>param_alpha</th>\n",
       "      <th>params</th>\n",
       "      <th>split0_test_score</th>\n",
       "      <th>split1_test_score</th>\n",
       "      <th>split2_test_score</th>\n",
       "      <th>split3_test_score</th>\n",
       "      <th>...</th>\n",
       "      <th>mean_test_score</th>\n",
       "      <th>std_test_score</th>\n",
       "      <th>rank_test_score</th>\n",
       "      <th>split0_train_score</th>\n",
       "      <th>split1_train_score</th>\n",
       "      <th>split2_train_score</th>\n",
       "      <th>split3_train_score</th>\n",
       "      <th>split4_train_score</th>\n",
       "      <th>mean_train_score</th>\n",
       "      <th>std_train_score</th>\n",
       "    </tr>\n",
       "  </thead>\n",
       "  <tbody>\n",
       "    <tr>\n",
       "      <td>0</td>\n",
       "      <td>1.837226</td>\n",
       "      <td>0.039138</td>\n",
       "      <td>0.333676</td>\n",
       "      <td>0.013907</td>\n",
       "      <td>1e-15</td>\n",
       "      <td>{'alpha': 1e-15}</td>\n",
       "      <td>0.255059</td>\n",
       "      <td>0.256514</td>\n",
       "      <td>0.256477</td>\n",
       "      <td>0.254807</td>\n",
       "      <td>...</td>\n",
       "      <td>0.255525</td>\n",
       "      <td>0.000799</td>\n",
       "      <td>1</td>\n",
       "      <td>0.993183</td>\n",
       "      <td>0.993073</td>\n",
       "      <td>0.992866</td>\n",
       "      <td>0.992931</td>\n",
       "      <td>0.992998</td>\n",
       "      <td>0.99301</td>\n",
       "      <td>0.000111</td>\n",
       "    </tr>\n",
       "    <tr>\n",
       "      <td>1</td>\n",
       "      <td>1.762531</td>\n",
       "      <td>0.163321</td>\n",
       "      <td>0.321120</td>\n",
       "      <td>0.014738</td>\n",
       "      <td>1e-14</td>\n",
       "      <td>{'alpha': 1e-14}</td>\n",
       "      <td>0.255059</td>\n",
       "      <td>0.256514</td>\n",
       "      <td>0.256477</td>\n",
       "      <td>0.254807</td>\n",
       "      <td>...</td>\n",
       "      <td>0.255525</td>\n",
       "      <td>0.000799</td>\n",
       "      <td>1</td>\n",
       "      <td>0.993183</td>\n",
       "      <td>0.993073</td>\n",
       "      <td>0.992866</td>\n",
       "      <td>0.992931</td>\n",
       "      <td>0.992998</td>\n",
       "      <td>0.99301</td>\n",
       "      <td>0.000111</td>\n",
       "    </tr>\n",
       "    <tr>\n",
       "      <td>2</td>\n",
       "      <td>1.581869</td>\n",
       "      <td>0.012289</td>\n",
       "      <td>0.316342</td>\n",
       "      <td>0.017157</td>\n",
       "      <td>1e-13</td>\n",
       "      <td>{'alpha': 1e-13}</td>\n",
       "      <td>0.255059</td>\n",
       "      <td>0.256514</td>\n",
       "      <td>0.256477</td>\n",
       "      <td>0.254807</td>\n",
       "      <td>...</td>\n",
       "      <td>0.255525</td>\n",
       "      <td>0.000799</td>\n",
       "      <td>1</td>\n",
       "      <td>0.993183</td>\n",
       "      <td>0.993073</td>\n",
       "      <td>0.992866</td>\n",
       "      <td>0.992931</td>\n",
       "      <td>0.992998</td>\n",
       "      <td>0.99301</td>\n",
       "      <td>0.000111</td>\n",
       "    </tr>\n",
       "    <tr>\n",
       "      <td>3</td>\n",
       "      <td>1.589861</td>\n",
       "      <td>0.018010</td>\n",
       "      <td>0.327159</td>\n",
       "      <td>0.016634</td>\n",
       "      <td>1e-12</td>\n",
       "      <td>{'alpha': 1e-12}</td>\n",
       "      <td>0.255059</td>\n",
       "      <td>0.256514</td>\n",
       "      <td>0.256477</td>\n",
       "      <td>0.254807</td>\n",
       "      <td>...</td>\n",
       "      <td>0.255525</td>\n",
       "      <td>0.000799</td>\n",
       "      <td>1</td>\n",
       "      <td>0.993183</td>\n",
       "      <td>0.993073</td>\n",
       "      <td>0.992866</td>\n",
       "      <td>0.992931</td>\n",
       "      <td>0.992998</td>\n",
       "      <td>0.99301</td>\n",
       "      <td>0.000111</td>\n",
       "    </tr>\n",
       "    <tr>\n",
       "      <td>4</td>\n",
       "      <td>1.598186</td>\n",
       "      <td>0.018979</td>\n",
       "      <td>0.319835</td>\n",
       "      <td>0.015183</td>\n",
       "      <td>1e-11</td>\n",
       "      <td>{'alpha': 1e-11}</td>\n",
       "      <td>0.255059</td>\n",
       "      <td>0.256514</td>\n",
       "      <td>0.256477</td>\n",
       "      <td>0.254807</td>\n",
       "      <td>...</td>\n",
       "      <td>0.255525</td>\n",
       "      <td>0.000799</td>\n",
       "      <td>1</td>\n",
       "      <td>0.993183</td>\n",
       "      <td>0.993073</td>\n",
       "      <td>0.992866</td>\n",
       "      <td>0.992931</td>\n",
       "      <td>0.992998</td>\n",
       "      <td>0.99301</td>\n",
       "      <td>0.000111</td>\n",
       "    </tr>\n",
       "  </tbody>\n",
       "</table>\n",
       "<p>5 rows × 21 columns</p>\n",
       "</div>"
      ],
      "text/plain": [
       "   mean_fit_time  std_fit_time  mean_score_time  std_score_time param_alpha  \\\n",
       "0       1.837226      0.039138         0.333676        0.013907       1e-15   \n",
       "1       1.762531      0.163321         0.321120        0.014738       1e-14   \n",
       "2       1.581869      0.012289         0.316342        0.017157       1e-13   \n",
       "3       1.589861      0.018010         0.327159        0.016634       1e-12   \n",
       "4       1.598186      0.018979         0.319835        0.015183       1e-11   \n",
       "\n",
       "             params  split0_test_score  split1_test_score  split2_test_score  \\\n",
       "0  {'alpha': 1e-15}           0.255059           0.256514           0.256477   \n",
       "1  {'alpha': 1e-14}           0.255059           0.256514           0.256477   \n",
       "2  {'alpha': 1e-13}           0.255059           0.256514           0.256477   \n",
       "3  {'alpha': 1e-12}           0.255059           0.256514           0.256477   \n",
       "4  {'alpha': 1e-11}           0.255059           0.256514           0.256477   \n",
       "\n",
       "   split3_test_score  ...  mean_test_score  std_test_score  rank_test_score  \\\n",
       "0           0.254807  ...         0.255525        0.000799                1   \n",
       "1           0.254807  ...         0.255525        0.000799                1   \n",
       "2           0.254807  ...         0.255525        0.000799                1   \n",
       "3           0.254807  ...         0.255525        0.000799                1   \n",
       "4           0.254807  ...         0.255525        0.000799                1   \n",
       "\n",
       "   split0_train_score  split1_train_score  split2_train_score  \\\n",
       "0            0.993183            0.993073            0.992866   \n",
       "1            0.993183            0.993073            0.992866   \n",
       "2            0.993183            0.993073            0.992866   \n",
       "3            0.993183            0.993073            0.992866   \n",
       "4            0.993183            0.993073            0.992866   \n",
       "\n",
       "   split3_train_score  split4_train_score  mean_train_score  std_train_score  \n",
       "0            0.992931            0.992998           0.99301         0.000111  \n",
       "1            0.992931            0.992998           0.99301         0.000111  \n",
       "2            0.992931            0.992998           0.99301         0.000111  \n",
       "3            0.992931            0.992998           0.99301         0.000111  \n",
       "4            0.992931            0.992998           0.99301         0.000111  \n",
       "\n",
       "[5 rows x 21 columns]"
      ]
     },
     "execution_count": 18,
     "metadata": {},
     "output_type": "execute_result"
    }
   ],
   "source": [
    "cvdf.head()"
   ]
  },
  {
   "cell_type": "code",
   "execution_count": 19,
   "metadata": {},
   "outputs": [
    {
     "data": {
      "image/png": "[encoded data removed]",
      "text/plain": [
       "<Figure size 936x432 with 1 Axes>"
      ]
     },
     "metadata": {
      "needs_background": "light"
     },
     "output_type": "display_data"
    }
   ],
   "source": [
    "plot_results(cvdf=cvdf, param='alpha', title='Bow Results', logFlag=True)"
   ]
  },
  {
   "cell_type": "code",
   "execution_count": 20,
   "metadata": {
    "scrolled": true
   },
   "outputs": [
    {
     "name": "stdout",
     "output_type": "stream",
     "text": [
      "Confusion matrix, without normalization\n"
     ]
    },
    {
     "data": {
      "image/png": "[encoded data removed]",
      "text/plain": [
       "<Figure size 432x288 with 2 Axes>"
      ]
     },
     "metadata": {
      "needs_background": "light"
     },
     "output_type": "display_data"
    }
   ],
   "source": [
    "# Plot Confusion matrix for train set\n",
    "cm = confusion_matrix(y_train.values, clf.best_estimator_.predict(train_count_vect))\n",
    "plot_confusion_matrix(cm, ['Sincere','Insincere'], title='Confusion Matrix for Train Set')"
   ]
  },
  {
   "cell_type": "code",
   "execution_count": 21,
   "metadata": {},
   "outputs": [
    {
     "name": "stdout",
     "output_type": "stream",
     "text": [
      "Confusion matrix, without normalization\n"
     ]
    },
    {
     "data": {
      "image/png": "[encoded data removed]",
      "text/plain": [
       "<Figure size 432x288 with 2 Axes>"
      ]
     },
     "metadata": {
      "needs_background": "light"
     },
     "output_type": "display_data"
    }
   ],
   "source": [
    "# Plot Confusion matrix for test set\n",
    "cm = confusion_matrix(y_test.values, clf.best_estimator_.predict(test_count_vect))\n",
    "plot_confusion_matrix(cm, ['Sincere','Insincere'], title='Confusion Matrix for Test Set')"
   ]
  },
  {
   "cell_type": "markdown",
   "metadata": {},
   "source": [
    "### Logistic Regression"
   ]
  },
  {
   "cell_type": "code",
   "execution_count": 22,
   "metadata": {
    "scrolled": false
   },
   "outputs": [
    {
     "name": "stdout",
     "output_type": "stream",
     "text": [
      "Fitting 3 folds for each of 8 candidates, totalling 24 fits\n"
     ]
    },
    {
     "name": "stderr",
     "output_type": "stream",
     "text": [
      "[Parallel(n_jobs=-1)]: Using backend LokyBackend with 8 concurrent workers.\n",
      "[Parallel(n_jobs=-1)]: Done   2 tasks      | elapsed:   19.6s\n",
      "[Parallel(n_jobs=-1)]: Done   9 tasks      | elapsed:   59.2s\n",
      "[Parallel(n_jobs=-1)]: Done  12 out of  24 | elapsed:  1.2min remaining:  1.2min\n",
      "[Parallel(n_jobs=-1)]: Done  15 out of  24 | elapsed:  2.5min remaining:  1.5min\n",
      "[Parallel(n_jobs=-1)]: Done  18 out of  24 | elapsed:  2.8min remaining:   56.0s\n",
      "[Parallel(n_jobs=-1)]: Done  21 out of  24 | elapsed:  3.4min remaining:   28.7s\n",
      "[Parallel(n_jobs=-1)]: Done  24 out of  24 | elapsed:  4.5min remaining:    0.0s\n",
      "[Parallel(n_jobs=-1)]: Done  24 out of  24 | elapsed:  4.5min finished\n"
     ]
    },
    {
     "data": {
      "text/plain": [
       "GridSearchCV(cv=3, error_score='raise-deprecating',\n",
       "       estimator=LogisticRegression(C=1.0, class_weight=None, dual=False, fit_intercept=True,\n",
       "          intercept_scaling=1, max_iter=100, multi_class='warn',\n",
       "          n_jobs=None, penalty='l2', random_state=None, solver='warn',\n",
       "          tol=0.0001, verbose=0, warm_start=False),\n",
       "       fit_params=None, iid='warn', n_jobs=-1,\n",
       "       param_grid={'penalty': ['l1', 'l2'], 'C': [0.01, 0.1, 1, 10]},\n",
       "       pre_dispatch='2*n_jobs', refit=True, return_train_score='warn',\n",
       "       scoring='f1', verbose=10)"
      ]
     },
     "execution_count": 22,
     "metadata": {},
     "output_type": "execute_result"
    }
   ],
   "source": [
    "# Estimator as LogisticRegression for GridSearchCV\n",
    "bow_lg = LogisticRegression()\n",
    "# Estimator LogisticRegression\n",
    "# param_grid: tuning hyperparameter in the range of (10^(-2) to 10^(4))\n",
    "# cv: Cross validation with timeseries of 3 fold\n",
    "# scoring: perform cross validation based on roc_auc_score\n",
    "# verbose: for debugging\n",
    "params={'penalty':['l1', 'l2'], 'C': list(map(lambda x: 10**x , range(-2,2))) }\n",
    "bow_clf = GridSearchCV(estimator=bow_lg, \\\n",
    "                          param_grid=params,\\\n",
    "                          cv=3, scoring='f1',verbose=10, n_jobs=-1)\n",
    "# Fit the train samples\n",
    "bow_clf.fit(train_count_vect, y_train.values)"
   ]
  },
  {
   "cell_type": "code",
   "execution_count": 23,
   "metadata": {},
   "outputs": [
    {
     "data": {
      "text/plain": [
       "LogisticRegression(C=10, class_weight=None, dual=False, fit_intercept=True,\n",
       "          intercept_scaling=1, max_iter=100, multi_class='warn',\n",
       "          n_jobs=None, penalty='l1', random_state=None, solver='warn',\n",
       "          tol=0.0001, verbose=0, warm_start=False)"
      ]
     },
     "execution_count": 23,
     "metadata": {},
     "output_type": "execute_result"
    }
   ],
   "source": [
    "bow_clf.best_estimator_"
   ]
  },
  {
   "cell_type": "code",
   "execution_count": 24,
   "metadata": {},
   "outputs": [
    {
     "name": "stdout",
     "output_type": "stream",
     "text": [
      "Grid search best f1 score: 0.34790051326720706\n"
     ]
    }
   ],
   "source": [
    "print(\"Grid search best f1 score:\", bow_clf.best_score_)"
   ]
  },
  {
   "cell_type": "code",
   "execution_count": 25,
   "metadata": {},
   "outputs": [
    {
     "name": "stdout",
     "output_type": "stream",
     "text": [
      "BOW train f1 score: 0.9977158843422986\n",
      "BOW test f1 score: 0.37100225550864613\n"
     ]
    }
   ],
   "source": [
    "print(\"BOW train f1 score:\", f1_score(bow_clf.best_estimator_.predict(train_count_vect), y_train.values))\n",
    "print(\"BOW test f1 score:\", f1_score(bow_clf.best_estimator_.predict(test_count_vect), y_test.values))"
   ]
  },
  {
   "cell_type": "code",
   "execution_count": 26,
   "metadata": {},
   "outputs": [],
   "source": [
    "cvdf = pd.DataFrame.from_dict(bow_clf.cv_results_).head()"
   ]
  },
  {
   "cell_type": "code",
   "execution_count": 27,
   "metadata": {},
   "outputs": [
    {
     "data": {
      "image/png": "[encoded data removed]",
      "text/plain": [
       "<Figure size 936x432 with 1 Axes>"
      ]
     },
     "metadata": {
      "needs_background": "light"
     },
     "output_type": "display_data"
    }
   ],
   "source": [
    "plot_results(cvdf=cvdf, param='C', title='Bow Results', logFlag=True)"
   ]
  },
  {
   "cell_type": "code",
   "execution_count": 28,
   "metadata": {
    "scrolled": true
   },
   "outputs": [
    {
     "name": "stdout",
     "output_type": "stream",
     "text": [
      "Confusion matrix, without normalization\n"
     ]
    },
    {
     "data": {
      "image/png": "[encoded data removed]",
      "text/plain": [
       "<Figure size 432x288 with 2 Axes>"
      ]
     },
     "metadata": {
      "needs_background": "light"
     },
     "output_type": "display_data"
    }
   ],
   "source": [
    "# Plot Confusion matrix for train set\n",
    "cm = confusion_matrix(y_train.values, bow_clf.best_estimator_.predict(train_count_vect))\n",
    "plot_confusion_matrix(cm, ['Sincere','Insincere'], title='Confusion Matrix for Train Set')"
   ]
  },
  {
   "cell_type": "code",
   "execution_count": 29,
   "metadata": {},
   "outputs": [
    {
     "name": "stdout",
     "output_type": "stream",
     "text": [
      "Confusion matrix, without normalization\n"
     ]
    },
    {
     "data": {
      "image/png": "[encoded data removed]",
      "text/plain": [
       "<Figure size 432x288 with 2 Axes>"
      ]
     },
     "metadata": {
      "needs_background": "light"
     },
     "output_type": "display_data"
    }
   ],
   "source": [
    "# Plot Confusion matrix for test set\n",
    "cm = confusion_matrix(y_test.values, bow_clf.best_estimator_.predict(test_count_vect))\n",
    "plot_confusion_matrix(cm, ['Sincere','Insincere'], title='Confusion Matrix for Test Set')"
   ]
  },
  {
   "cell_type": "markdown",
   "metadata": {},
   "source": [
    "### TFIDF Vectorizer"
   ]
  },
  {
   "cell_type": "code",
   "execution_count": 38,
   "metadata": {},
   "outputs": [],
   "source": [
    "from sklearn import preprocessing"
   ]
  },
  {
   "cell_type": "code",
   "execution_count": 39,
   "metadata": {},
   "outputs": [
    {
     "name": "stdout",
     "output_type": "stream",
     "text": [
      "CPU times: user 3min 16s, sys: 5.77 s, total: 3min 22s\n",
      "Wall time: 3min 19s\n"
     ]
    }
   ],
   "source": [
    "%%time\n",
    "tfidf_vectorizer = TfidfVectorizer(ngram_range=(1,4), min_df=3, max_df=0.9, \\\n",
    "                                   strip_accents='unicode',\n",
    "                                   use_idf=True,\n",
    "                                   smooth_idf=True,\n",
    "                                   sublinear_tf=True)\n",
    "\n",
    "tfidf_train_vect = tfidf_vectorizer.fit_transform(X_train.values)\n",
    "tfidf_test_vect = tfidf_vectorizer.transform(X_test.values)\n",
    "normalizer = preprocessing.Normalizer()\n",
    "tfidf_train_vect = normalizer.fit_transform(tfidf_train_vect)\n",
    "tfidf_test_vect = normalizer.transform(tfidf_test_vect)"
   ]
  },
  {
   "cell_type": "code",
   "execution_count": 40,
   "metadata": {},
   "outputs": [
    {
     "name": "stdout",
     "output_type": "stream",
     "text": [
      "Train vector shape: (914285, 950422)\n",
      "Test vector shape: (391837, 950422)\n"
     ]
    }
   ],
   "source": [
    "print('Train vector shape:', tfidf_train_vect.shape)\n",
    "print('Test vector shape:', tfidf_test_vect.shape)"
   ]
  },
  {
   "cell_type": "markdown",
   "metadata": {},
   "source": [
    "### Naive Bayes"
   ]
  },
  {
   "cell_type": "code",
   "execution_count": 41,
   "metadata": {},
   "outputs": [
    {
     "name": "stdout",
     "output_type": "stream",
     "text": [
      "Fitting 3 folds for each of 20 candidates, totalling 60 fits\n"
     ]
    },
    {
     "name": "stderr",
     "output_type": "stream",
     "text": [
      "[Parallel(n_jobs=-1)]: Using backend LokyBackend with 8 concurrent workers.\n",
      "[Parallel(n_jobs=-1)]: Done   2 tasks      | elapsed:    1.9s\n",
      "[Parallel(n_jobs=-1)]: Done   9 tasks      | elapsed:    3.6s\n",
      "[Parallel(n_jobs=-1)]: Done  16 tasks      | elapsed:    3.8s\n",
      "[Parallel(n_jobs=-1)]: Done  25 tasks      | elapsed:    7.1s\n",
      "[Parallel(n_jobs=-1)]: Done  34 tasks      | elapsed:    8.8s\n",
      "[Parallel(n_jobs=-1)]: Done  45 tasks      | elapsed:   10.7s\n",
      "[Parallel(n_jobs=-1)]: Done  52 out of  60 | elapsed:   12.4s remaining:    1.9s\n",
      "[Parallel(n_jobs=-1)]: Done  60 out of  60 | elapsed:   13.6s finished\n"
     ]
    },
    {
     "data": {
      "text/plain": [
       "GridSearchCV(cv=3, error_score='raise-deprecating',\n",
       "       estimator=MultinomialNB(alpha=1.0, class_prior=None, fit_prior=True),\n",
       "       fit_params=None, iid='warn', n_jobs=-1,\n",
       "       param_grid={'alpha': [1e-10, 1e-09, 1e-08, 1e-07, 1e-06, 1e-05, 0.0001, 0.001, 0.01, 0.1, 1, 10, 100, 1000, 10000, 100000, 1000000, 10000000, 100000000, 1000000000]},\n",
       "       pre_dispatch='2*n_jobs', refit=True, return_train_score='warn',\n",
       "       scoring='f1', verbose=10)"
      ]
     },
     "execution_count": 41,
     "metadata": {},
     "output_type": "execute_result"
    }
   ],
   "source": [
    "# Estimator as MultinomialNB for GridSearchCV\n",
    "mnb = MultinomialNB()\n",
    "# Estimator MultinomialNB\n",
    "# param_grid: Additive (Laplace/Lidstone) smoothing parameter : (10^(-10) to 10^(10))\n",
    "# cv: Cross validation with 3 fold\n",
    "# scoring: perform cross validation based on f1\n",
    "# verbose: for debugging\n",
    "clf = GridSearchCV(estimator=mnb, param_grid={'alpha': list(map(lambda x: 10**x , range(-10,10))) }, cv=3,\n",
    "                   scoring='f1',verbose=10, n_jobs=-1)\n",
    "# Fit the train samples\n",
    "clf.fit(tfidf_train_vect, y_train.values)"
   ]
  },
  {
   "cell_type": "code",
   "execution_count": 42,
   "metadata": {},
   "outputs": [
    {
     "data": {
      "text/plain": [
       "MultinomialNB(alpha=0.1, class_prior=None, fit_prior=True)"
      ]
     },
     "execution_count": 42,
     "metadata": {},
     "output_type": "execute_result"
    }
   ],
   "source": [
    "clf.best_estimator_"
   ]
  },
  {
   "cell_type": "code",
   "execution_count": 43,
   "metadata": {},
   "outputs": [
    {
     "name": "stdout",
     "output_type": "stream",
     "text": [
      "Grid search best f1 score: 0.5831533675279063\n"
     ]
    }
   ],
   "source": [
    "print(\"Grid search best f1 score:\", clf.best_score_)"
   ]
  },
  {
   "cell_type": "code",
   "execution_count": 44,
   "metadata": {},
   "outputs": [
    {
     "name": "stdout",
     "output_type": "stream",
     "text": [
      "TFIDF train f1 score: 0.7238521247204315\n",
      "TFIDF test f1 score: 0.5829645584491874\n"
     ]
    }
   ],
   "source": [
    "print(\"TFIDF train f1 score:\", f1_score(y_pred=clf.best_estimator_.predict(tfidf_train_vect), \\\n",
    "                                      y_true=y_train.values))\n",
    "print(\"TFIDF test f1 score:\", f1_score(y_pred=clf.best_estimator_.predict(tfidf_test_vect), \\\n",
    "                                     y_true=y_test.values))"
   ]
  },
  {
   "cell_type": "code",
   "execution_count": 45,
   "metadata": {},
   "outputs": [],
   "source": [
    "cvdf = pd.DataFrame.from_dict(clf.cv_results_).head()"
   ]
  },
  {
   "cell_type": "code",
   "execution_count": 46,
   "metadata": {},
   "outputs": [
    {
     "data": {
      "image/png": "[encoded data removed]",
      "text/plain": [
       "<Figure size 936x432 with 1 Axes>"
      ]
     },
     "metadata": {
      "needs_background": "light"
     },
     "output_type": "display_data"
    }
   ],
   "source": [
    "plot_results(cvdf=cvdf, param='alpha', title='TFIDF Results', logFlag=True)"
   ]
  },
  {
   "cell_type": "code",
   "execution_count": 47,
   "metadata": {
    "scrolled": true
   },
   "outputs": [
    {
     "name": "stdout",
     "output_type": "stream",
     "text": [
      "Confusion matrix, without normalization\n"
     ]
    },
    {
     "data": {
      "image/png": "[encoded data removed]",
      "text/plain": [
       "<Figure size 432x288 with 2 Axes>"
      ]
     },
     "metadata": {
      "needs_background": "light"
     },
     "output_type": "display_data"
    }
   ],
   "source": [
    "# Plot Confusion matrix for train set\n",
    "cm = confusion_matrix(y_train.values, clf.best_estimator_.predict(tfidf_train_vect))\n",
    "plot_confusion_matrix(cm, ['Sincere','Insincere'], title='Confusion Matrix for Train Set')"
   ]
  },
  {
   "cell_type": "code",
   "execution_count": 48,
   "metadata": {},
   "outputs": [
    {
     "name": "stdout",
     "output_type": "stream",
     "text": [
      "Confusion matrix, without normalization\n"
     ]
    },
    {
     "data": {
      "image/png": "[encoded data removed]",
      "text/plain": [
       "<Figure size 432x288 with 2 Axes>"
      ]
     },
     "metadata": {
      "needs_background": "light"
     },
     "output_type": "display_data"
    }
   ],
   "source": [
    "# Plot Confusion matrix for test set\n",
    "cm = confusion_matrix(y_test.values, clf.best_estimator_.predict(tfidf_test_vect))\n",
    "plot_confusion_matrix(cm, ['Sincere','Insincere'], title='Confusion Matrix for Test Set')"
   ]
  },
  {
   "cell_type": "markdown",
   "metadata": {},
   "source": [
    "### Logistic Regression"
   ]
  },
  {
   "cell_type": "code",
   "execution_count": 49,
   "metadata": {},
   "outputs": [
    {
     "name": "stdout",
     "output_type": "stream",
     "text": [
      "Fitting 3 folds for each of 16 candidates, totalling 48 fits\n"
     ]
    },
    {
     "name": "stderr",
     "output_type": "stream",
     "text": [
      "[Parallel(n_jobs=-1)]: Using backend LokyBackend with 8 concurrent workers.\n",
      "[Parallel(n_jobs=-1)]: Done   2 tasks      | elapsed:   17.2s\n",
      "[Parallel(n_jobs=-1)]: Done   9 tasks      | elapsed:   32.9s\n",
      "[Parallel(n_jobs=-1)]: Done  16 tasks      | elapsed:  1.1min\n",
      "[Parallel(n_jobs=-1)]: Done  25 tasks      | elapsed:  2.5min\n",
      "[Parallel(n_jobs=-1)]: Done  38 out of  48 | elapsed:  5.4min remaining:  1.4min\n",
      "[Parallel(n_jobs=-1)]: Done  43 out of  48 | elapsed:  7.4min remaining:   51.3s\n",
      "[Parallel(n_jobs=-1)]: Done  48 out of  48 | elapsed:  8.1min remaining:    0.0s\n",
      "[Parallel(n_jobs=-1)]: Done  48 out of  48 | elapsed:  8.1min finished\n"
     ]
    },
    {
     "data": {
      "text/plain": [
       "GridSearchCV(cv=3, error_score='raise-deprecating',\n",
       "       estimator=LogisticRegression(C=1.0, class_weight=None, dual=False, fit_intercept=True,\n",
       "          intercept_scaling=1, max_iter=100, multi_class='warn',\n",
       "          n_jobs=None, penalty='l2', random_state=None, solver='warn',\n",
       "          tol=0.0001, verbose=0, warm_start=False),\n",
       "       fit_params=None, iid='warn', n_jobs=-1,\n",
       "       param_grid={'penalty': ['l1', 'l2'], 'class_weight': ['balanced', None], 'C': [0.01, 0.1, 1, 10]},\n",
       "       pre_dispatch='2*n_jobs', refit=True, return_train_score='warn',\n",
       "       scoring='f1', verbose=10)"
      ]
     },
     "execution_count": 49,
     "metadata": {},
     "output_type": "execute_result"
    }
   ],
   "source": [
    "# Estimator as LogisticRegression for GridSearchCV\n",
    "bow_lg = LogisticRegression()\n",
    "# Estimator LogisticRegression\n",
    "# param_grid: tuning hyperparameter in the range of (10^(-2) to 10^(4))\n",
    "# cv: Cross validation with timeseries of 3 fold\n",
    "# scoring: perform cross validation based on roc_auc_score\n",
    "# verbose: for debugging\n",
    "params={'penalty':['l1', 'l2'], 'class_weight': ['balanced', None], \\\n",
    "        'C': list(map(lambda x: 10**x , range(-2,2))) }\n",
    "clf = GridSearchCV(estimator=bow_lg, \\\n",
    "                          param_grid=params,\\\n",
    "                          cv=3, scoring='f1',verbose=10, n_jobs=-1)\n",
    "# Fit the train samples\n",
    "clf.fit(tfidf_train_vect, y_train.values)"
   ]
  },
  {
   "cell_type": "code",
   "execution_count": 50,
   "metadata": {},
   "outputs": [
    {
     "data": {
      "text/plain": [
       "LogisticRegression(C=10, class_weight='balanced', dual=False,\n",
       "          fit_intercept=True, intercept_scaling=1, max_iter=100,\n",
       "          multi_class='warn', n_jobs=None, penalty='l2', random_state=None,\n",
       "          solver='warn', tol=0.0001, verbose=0, warm_start=False)"
      ]
     },
     "execution_count": 50,
     "metadata": {},
     "output_type": "execute_result"
    }
   ],
   "source": [
    "clf.best_estimator_"
   ]
  },
  {
   "cell_type": "code",
   "execution_count": 51,
   "metadata": {},
   "outputs": [
    {
     "name": "stdout",
     "output_type": "stream",
     "text": [
      "Grid search best f1 score: 0.6169561533742136\n"
     ]
    }
   ],
   "source": [
    "print(\"Grid search best f1 score:\", clf.best_score_)"
   ]
  },
  {
   "cell_type": "code",
   "execution_count": 52,
   "metadata": {},
   "outputs": [
    {
     "name": "stdout",
     "output_type": "stream",
     "text": [
      "TFIDF train f1 score: 0.855392527605506\n",
      "TFIDF test f1 score: 0.6172296957294776\n"
     ]
    }
   ],
   "source": [
    "print(\"TFIDF train f1 score:\", f1_score(clf.best_estimator_.predict(tfidf_train_vect), y_train.values))\n",
    "print(\"TFIDF test f1 score:\", f1_score(clf.best_estimator_.predict(tfidf_test_vect), y_test.values))"
   ]
  },
  {
   "cell_type": "code",
   "execution_count": 53,
   "metadata": {
    "scrolled": true
   },
   "outputs": [
    {
     "name": "stdout",
     "output_type": "stream",
     "text": [
      "Confusion matrix, without normalization\n"
     ]
    },
    {
     "data": {
      "image/png": "[encoded data removed]",
      "text/plain": [
       "<Figure size 432x288 with 2 Axes>"
      ]
     },
     "metadata": {
      "needs_background": "light"
     },
     "output_type": "display_data"
    }
   ],
   "source": [
    "# Plot Confusion matrix for train set\n",
    "cm = confusion_matrix(y_train.values, clf.best_estimator_.predict(tfidf_train_vect))\n",
    "plot_confusion_matrix(cm, ['Sincere','Insincere'], title='Confusion Matrix for Train Set')"
   ]
  },
  {
   "cell_type": "code",
   "execution_count": 54,
   "metadata": {},
   "outputs": [
    {
     "name": "stdout",
     "output_type": "stream",
     "text": [
      "Confusion matrix, without normalization\n"
     ]
    },
    {
     "data": {
      "image/png": "[encoded data removed]",
      "text/plain": [
       "<Figure size 432x288 with 2 Axes>"
      ]
     },
     "metadata": {
      "needs_background": "light"
     },
     "output_type": "display_data"
    }
   ],
   "source": [
    "# Plot Confusion matrix for test set\n",
    "cm = confusion_matrix(y_test.values, clf.best_estimator_.predict(tfidf_test_vect))\n",
    "plot_confusion_matrix(cm, ['Sincere','Insincere'], title='Confusion Matrix for Test Set')"
   ]
  },
  {
   "cell_type": "markdown",
   "metadata": {},
   "source": [
    "### Conclusion"
   ]
  },
  {
   "cell_type": "code",
   "execution_count": 55,
   "metadata": {},
   "outputs": [],
   "source": [
    "from prettytable import PrettyTable"
   ]
  },
  {
   "cell_type": "code",
   "execution_count": 56,
   "metadata": {},
   "outputs": [
    {
     "name": "stdout",
     "output_type": "stream",
     "text": [
      "+------------+---------------------+----------------+---------------+\n",
      "| Vectorizer |        Model        | Train F1-Score | Test F1-Score |\n",
      "+------------+---------------------+----------------+---------------+\n",
      "|    Bow     |     Naive Bayes     |     0.9921     |     0.3902    |\n",
      "|    Bow     | Logistic Regression |     0.9977     |     0.3710    |\n",
      "|   TFIDF    |     Naive Bayes     |     0.7238     |     0.5829    |\n",
      "|   TFIDF    | Logistic Regression |     0.8554     |     0.6172    |\n",
      "+------------+---------------------+----------------+---------------+\n"
     ]
    }
   ],
   "source": [
    "x = PrettyTable()\n",
    "x.field_names = [\"Vectorizer\", \"Model\", \"Train F1-Score\", \"Test F1-Score\"]\n",
    "x.add_row([\"Bow\", \"Naive Bayes\", \"0.9921\", \"0.3902\"])\n",
    "x.add_row([\"Bow\", \"Logistic Regression\", \"0.9977\", \"0.3710\"])\n",
    "x.add_row([\"TFIDF\", \"Naive Bayes\", \"0.7238\", \"0.5829\"])\n",
    "x.add_row([\"TFIDF\", \"Logistic Regression\", \"0.8554\", \"0.6172\"])\n",
    "print(x)"
   ]
  },
  {
   "cell_type": "markdown",
   "metadata": {},
   "source": [
    "1. Bag of words vectorizer with Naive Bayes has train f1 score of 0.9921 and test f1 score of 0.3902 and looking at the confusion matrix it indicates that most of them are predicted as sincere questions.\n",
    "2. Bag of words vectorizer with Logistic Regression has train f1 score of 0.9977 and test f1 score of 0.3701 and looking at the confusion matrix it indicates that most of them are predicted as sincere questions.\n",
    "3. TFIDF vectorizer with Naive Bayes has train f1 score of 0.7238 and test f1 score of 0.5829.\n",
    "4. TFIDF vectorizer with Logistic Regression has train f1 score of 0.8554 and test f1 score of 0.6172.\n",
    "5. We can use TFIDF Naive Bayes model as baseline model.\n",
    "6. Out of all the above models TFIDF Vectorized Logistic Regression model performed well with an test f1 score of 0.6172."
   ]
  }
 ],
 "metadata": {
  "kernelspec": {
   "display_name": "Python [conda env:root] *",
   "language": "python",
   "name": "conda-root-py"
  },
  "language_info": {
   "codemirror_mode": {
    "name": "ipython",
    "version": 3
   },
   "file_extension": ".py",
   "mimetype": "text/x-python",
   "name": "python",
   "nbconvert_exporter": "python",
   "pygments_lexer": "ipython3",
   "version": "3.7.4"
  }
 },
 "nbformat": 4,
 "nbformat_minor": 2
}
