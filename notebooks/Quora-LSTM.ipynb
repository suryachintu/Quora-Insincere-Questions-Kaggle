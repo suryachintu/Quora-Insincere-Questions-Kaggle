{
 "cells": [
  {
   "cell_type": "code",
   "execution_count": 4,
   "metadata": {
    "colab": {
     "base_uri": "https://localhost:8080/",
     "height": 34
    },
    "colab_type": "code",
    "id": "cM_joh6RmDFq",
    "outputId": "0087676e-e144-4915-a337-f123b0246c00"
   },
   "outputs": [
    {
     "name": "stdout",
     "output_type": "stream",
     "text": [
      "Mounted at /content/drive\n"
     ]
    }
   ],
   "source": [
    "from google.colab import drive\n",
    "drive.mount('/content/drive')"
   ]
  },
  {
   "cell_type": "code",
   "execution_count": 0,
   "metadata": {
    "colab": {},
    "colab_type": "code",
    "id": "XrGfQN-1mObd"
   },
   "outputs": [],
   "source": [
    "import numpy as np\n",
    "import pandas as pd\n",
    "import matplotlib.pyplot as plt\n",
    "import seaborn as sns\n",
    "from bs4 import BeautifulSoup\n",
    "from nltk.stem import PorterStemmer\n",
    "from nltk.tokenize import word_tokenize\n",
    "from nltk.stem import WordNetLemmatizer\n",
    "import re\n",
    "import operator \n",
    "from tqdm import tqdm_notebook as tqdm\n",
    "from sklearn.metrics import f1_score, confusion_matrix\n",
    "import warnings\n",
    "warnings.filterwarnings('ignore')"
   ]
  },
  {
   "cell_type": "code",
   "execution_count": 0,
   "metadata": {
    "colab": {},
    "colab_type": "code",
    "id": "tyzAwcvFmcSe"
   },
   "outputs": [],
   "source": [
    "train_df = pd.read_csv(r'drive/My Drive/final_cleaned_df.csv')"
   ]
  },
  {
   "cell_type": "code",
   "execution_count": 7,
   "metadata": {
    "colab": {
     "base_uri": "https://localhost:8080/",
     "height": 204
    },
    "colab_type": "code",
    "id": "HkQV6j6onHoH",
    "outputId": "4161e33b-8e82-416e-e600-f62643552781"
   },
   "outputs": [
    {
     "data": {
      "text/html": [
       "<div>\n",
       "<style scoped>\n",
       "    .dataframe tbody tr th:only-of-type {\n",
       "        vertical-align: middle;\n",
       "    }\n",
       "\n",
       "    .dataframe tbody tr th {\n",
       "        vertical-align: top;\n",
       "    }\n",
       "\n",
       "    .dataframe thead th {\n",
       "        text-align: right;\n",
       "    }\n",
       "</style>\n",
       "<table border=\"1\" class=\"dataframe\">\n",
       "  <thead>\n",
       "    <tr style=\"text-align: right;\">\n",
       "      <th></th>\n",
       "      <th>qid</th>\n",
       "      <th>target</th>\n",
       "      <th>final_cleaned_text</th>\n",
       "    </tr>\n",
       "  </thead>\n",
       "  <tbody>\n",
       "    <tr>\n",
       "      <th>0</th>\n",
       "      <td>00002165364db923c7e6</td>\n",
       "      <td>0</td>\n",
       "      <td>how did quebec nationalists see their province...</td>\n",
       "    </tr>\n",
       "    <tr>\n",
       "      <th>1</th>\n",
       "      <td>000032939017120e6e44</td>\n",
       "      <td>0</td>\n",
       "      <td>do you have an adopted dog how would you encou...</td>\n",
       "    </tr>\n",
       "    <tr>\n",
       "      <th>2</th>\n",
       "      <td>0000412ca6e4628ce2cf</td>\n",
       "      <td>0</td>\n",
       "      <td>why does velocity affect time does velocity af...</td>\n",
       "    </tr>\n",
       "    <tr>\n",
       "      <th>3</th>\n",
       "      <td>000042bf85aa498cd78e</td>\n",
       "      <td>0</td>\n",
       "      <td>how did otto von guericke used the magdeburg h...</td>\n",
       "    </tr>\n",
       "    <tr>\n",
       "      <th>4</th>\n",
       "      <td>0000455dfa3e01eae3af</td>\n",
       "      <td>0</td>\n",
       "      <td>can i convert montra helicon d to a mountain b...</td>\n",
       "    </tr>\n",
       "  </tbody>\n",
       "</table>\n",
       "</div>"
      ],
      "text/plain": [
       "                    qid  ...                                 final_cleaned_text\n",
       "0  00002165364db923c7e6  ...  how did quebec nationalists see their province...\n",
       "1  000032939017120e6e44  ...  do you have an adopted dog how would you encou...\n",
       "2  0000412ca6e4628ce2cf  ...  why does velocity affect time does velocity af...\n",
       "3  000042bf85aa498cd78e  ...  how did otto von guericke used the magdeburg h...\n",
       "4  0000455dfa3e01eae3af  ...  can i convert montra helicon d to a mountain b...\n",
       "\n",
       "[5 rows x 3 columns]"
      ]
     },
     "execution_count": 7,
     "metadata": {
      "tags": []
     },
     "output_type": "execute_result"
    }
   ],
   "source": [
    "train_df.head()"
   ]
  },
  {
   "cell_type": "code",
   "execution_count": 0,
   "metadata": {
    "colab": {},
    "colab_type": "code",
    "id": "esC7olXNnk-1"
   },
   "outputs": [],
   "source": [
    "puncts = [',', '.', '\"', ':', ')', '(', '-', '!', '?', '|', ';', \"'\", '$', '&', '/', '[', ']', '>', '%', '=', '#', '*', '+', '\\\\', '•',  '~', '@', '£', \n",
    " '·', '_', '{', '}', '©', '^', '®', '`',  '<', '→', '°', '€', '™', '›',  '♥', '←', '×', '§', '″', '′', 'Â', '█', '½', 'à', '…', \n",
    " '“', '★', '”', '–', '●', 'â', '►', '−', '¢', '²', '¬', '░', '¶', '↑', '±', '¿', '▾', '═', '¦', '║', '―', '¥', '▓', '—', '‹', '─', \n",
    " '▒', '：', '¼', '⊕', '▼', '▪', '†', '■', '’', '▀', '¨', '▄', '♫', '☆', 'é', '¯', '♦', '¤', '▲', 'è', '¸', '¾', 'Ã', '⋅', '‘', '∞', \n",
    " '∙', '）', '↓', '、', '│', '（', '»', '，', '♪', '╩', '╚', '³', '・', '╦', '╣', '╔', '╗', '▬', '❤', 'ï', 'Ø', '¹', '≤', '‡', '√', ]\n",
    "def clean_text(x):\n",
    "    x = str(x)\n",
    "    for punct in puncts:\n",
    "        x = x.replace(punct, f' {punct} ')\n",
    "    return x"
   ]
  },
  {
   "cell_type": "code",
   "execution_count": 10,
   "metadata": {
    "colab": {
     "base_uri": "https://localhost:8080/",
     "height": 34
    },
    "colab_type": "code",
    "id": "JPpOrW4aoLxi",
    "outputId": "9b5f5d2a-07d4-4035-b37d-093e61bcc49b"
   },
   "outputs": [
    {
     "name": "stderr",
     "output_type": "stream",
     "text": [
      "Using TensorFlow backend.\n"
     ]
    }
   ],
   "source": [
    "from keras.preprocessing.text import Tokenizer\n",
    "from keras.preprocessing.sequence import pad_sequences\n",
    "import keras"
   ]
  },
  {
   "cell_type": "code",
   "execution_count": 0,
   "metadata": {
    "colab": {},
    "colab_type": "code",
    "id": "6FvHFjLgoiR6"
   },
   "outputs": [],
   "source": [
    "MAX_NB_WORDS = 10000\n",
    "MAX_SEQUENCE_LENGTH = 60\n",
    "VALIDATION_SPLIT = 0.30"
   ]
  },
  {
   "cell_type": "code",
   "execution_count": 12,
   "metadata": {
    "colab": {
     "base_uri": "https://localhost:8080/",
     "height": 119
    },
    "colab_type": "code",
    "id": "mw14-B0psSba",
    "outputId": "1b24b0a5-9397-4368-f3ca-e13622824bdb"
   },
   "outputs": [
    {
     "data": {
      "text/plain": [
       "0    how did quebec nationalists see their province...\n",
       "1    do you have an adopted dog how would you encou...\n",
       "2    why does velocity affect time does velocity af...\n",
       "3    how did otto von guericke used the magdeburg h...\n",
       "4    can i convert montra helicon d to a mountain b...\n",
       "Name: final_cleaned_text, dtype: object"
      ]
     },
     "execution_count": 12,
     "metadata": {
      "tags": []
     },
     "output_type": "execute_result"
    }
   ],
   "source": [
    "train_df['final_cleaned_text'].head()"
   ]
  },
  {
   "cell_type": "code",
   "execution_count": 13,
   "metadata": {
    "colab": {
     "base_uri": "https://localhost:8080/",
     "height": 68
    },
    "colab_type": "code",
    "id": "9PzddnL8oOKR",
    "outputId": "da82bca7-9281-45e4-ce9a-75f65c5cf2e9"
   },
   "outputs": [
    {
     "name": "stdout",
     "output_type": "stream",
     "text": [
      "Found 178708 unique tokens.\n",
      "Shape of data tensor: (1306122, 60)\n",
      "Shape of label tensor: (1306122,)\n"
     ]
    }
   ],
   "source": [
    "tokenizer = Tokenizer(oov_token='OOV_TOKEN')\n",
    "tokenizer.fit_on_texts(train_df['final_cleaned_text'].values)\n",
    "sequences = tokenizer.texts_to_sequences(train_df['final_cleaned_text'].values)\n",
    "\n",
    "word_index = tokenizer.word_index\n",
    "print('Found %s unique tokens.' % len(word_index))\n",
    "\n",
    "data = pad_sequences(sequences, maxlen=MAX_SEQUENCE_LENGTH, padding='post')\n",
    "\n",
    "labels = train_df['target'].values\n",
    "print('Shape of data tensor:', data.shape)\n",
    "print('Shape of label tensor:', labels.shape)\n",
    "\n",
    "# split the data into a training set and a validation set\n",
    "indices = np.arange(train_df.shape[0])\n",
    "np.random.shuffle(indices)\n",
    "data = data[indices]\n",
    "labels = labels[indices]\n",
    "nb_validation_samples = int(VALIDATION_SPLIT * data.shape[0])\n",
    "\n",
    "x_train = data[:-nb_validation_samples]\n",
    "y_train = labels[:-nb_validation_samples]\n",
    "x_val = data[-nb_validation_samples:]\n",
    "y_val = labels[-nb_validation_samples:]\n"
   ]
  },
  {
   "cell_type": "code",
   "execution_count": 0,
   "metadata": {
    "colab": {},
    "colab_type": "code",
    "id": "x05XyvV_psvT"
   },
   "outputs": [],
   "source": [
    "def get_coefs(word,*arr): \n",
    "    return word, np.asarray(arr, dtype='float32')\n",
    "\n",
    "def load_embed(file):    \n",
    "    embeddings_index = dict(get_coefs(*o.split(\" \")) for o in open(file, encoding='latin'))\n",
    "    return embeddings_index"
   ]
  },
  {
   "cell_type": "code",
   "execution_count": 15,
   "metadata": {
    "colab": {
     "base_uri": "https://localhost:8080/",
     "height": 68
    },
    "colab_type": "code",
    "id": "wZ2trxy7pxp7",
    "outputId": "4d7ef6bf-d39d-4bcd-c449-d54065fb4738"
   },
   "outputs": [
    {
     "name": "stdout",
     "output_type": "stream",
     "text": [
      "Extracting GloVe embedding\n",
      "CPU times: user 2min 37s, sys: 4.27 s, total: 2min 42s\n",
      "Wall time: 2min 41s\n"
     ]
    }
   ],
   "source": [
    "%%time\n",
    "print(\"Extracting GloVe embedding\")\n",
    "embed_glove = load_embed('glove.840B.300d.txt')"
   ]
  },
  {
   "cell_type": "code",
   "execution_count": 16,
   "metadata": {
    "colab": {
     "base_uri": "https://localhost:8080/",
     "height": 34
    },
    "colab_type": "code",
    "id": "1v6_hg6_p5cn",
    "outputId": "a9aae714-479f-4346-ad6a-92a965650104"
   },
   "outputs": [
    {
     "name": "stdout",
     "output_type": "stream",
     "text": [
      "2196017\n"
     ]
    }
   ],
   "source": [
    "print(len(embed_glove))"
   ]
  },
  {
   "cell_type": "code",
   "execution_count": 0,
   "metadata": {
    "colab": {},
    "colab_type": "code",
    "id": "dDqa_LfYq15f"
   },
   "outputs": [],
   "source": [
    "from tqdm import tqdm"
   ]
  },
  {
   "cell_type": "code",
   "execution_count": 0,
   "metadata": {
    "colab": {},
    "colab_type": "code",
    "id": "2RUcDhAtq-Vz"
   },
   "outputs": [],
   "source": [
    "EMBEDDING_DIM = 300"
   ]
  },
  {
   "cell_type": "code",
   "execution_count": 19,
   "metadata": {
    "colab": {
     "base_uri": "https://localhost:8080/",
     "height": 34
    },
    "colab_type": "code",
    "id": "tZghcyiVqr_S",
    "outputId": "c844052a-7a28-417f-c877-11c4d9dc4904"
   },
   "outputs": [
    {
     "name": "stderr",
     "output_type": "stream",
     "text": [
      "100%|██████████| 178708/178708 [00:00<00:00, 426164.55it/s]\n"
     ]
    }
   ],
   "source": [
    "embedding_matrix = np.zeros((len(word_index) + 1, EMBEDDING_DIM))\n",
    "for word, i in tqdm(word_index.items()):\n",
    "    embedding_vector = embed_glove.get(word)\n",
    "    if embedding_vector is not None:\n",
    "        # words not found in embedding index will be all-zeros.\n",
    "        embedding_matrix[i] = embedding_vector"
   ]
  },
  {
   "cell_type": "code",
   "execution_count": 20,
   "metadata": {
    "colab": {
     "base_uri": "https://localhost:8080/",
     "height": 71
    },
    "colab_type": "code",
    "id": "ZNARf2Q52K8Y",
    "outputId": "0a4fc8b0-0f60-40d7-cbc1-aac04a3c45c0"
   },
   "outputs": [
    {
     "name": "stdout",
     "output_type": "stream",
     "text": [
      "WARNING:tensorflow:From /usr/local/lib/python3.6/dist-packages/keras/backend/tensorflow_backend.py:66: The name tf.get_default_graph is deprecated. Please use tf.compat.v1.get_default_graph instead.\n",
      "\n"
     ]
    }
   ],
   "source": [
    "from keras.layers import Embedding\n",
    "\n",
    "embedding_layer = Embedding(len(word_index) + 1,\n",
    "                            EMBEDDING_DIM,\n",
    "                            weights=[embedding_matrix],\n",
    "                            input_length=MAX_SEQUENCE_LENGTH,\n",
    "                            trainable=False)"
   ]
  },
  {
   "cell_type": "code",
   "execution_count": 0,
   "metadata": {
    "colab": {},
    "colab_type": "code",
    "id": "XGuFekL92vgo"
   },
   "outputs": [],
   "source": [
    "from keras.layers import Input, Conv1D, MaxPooling1D, Flatten, Dense, LSTM, Dropout, Bidirectional\n",
    "from keras.models import Model, Sequential\n",
    "from keras.wrappers.scikit_learn import KerasClassifier\n",
    "import keras.backend as K"
   ]
  },
  {
   "cell_type": "code",
   "execution_count": 0,
   "metadata": {
    "colab": {},
    "colab_type": "code",
    "id": "OXW2QqdL5CmI"
   },
   "outputs": [],
   "source": [
    "# code :: https://datascience.stackexchange.com/questions/45165/how-to-get-accuracy-f1-precision-\n",
    "# and-recall-for-a-keras-model\n",
    "def get_f1(y_true, y_pred):\n",
    "    true_positives = K.sum(K.round(K.clip(y_true * y_pred, 0, 1)))\n",
    "    possible_positives = K.sum(K.round(K.clip(y_true, 0, 1)))\n",
    "    predicted_positives = K.sum(K.round(K.clip(y_pred, 0, 1)))\n",
    "    precision = true_positives / (predicted_positives + K.epsilon())\n",
    "    recall = true_positives / (possible_positives + K.epsilon())\n",
    "    f1_val = 2*(precision*recall)/(precision+recall+K.epsilon())\n",
    "    return f1_val"
   ]
  },
  {
   "cell_type": "markdown",
   "metadata": {},
   "source": [
    "<b>Cyclic Learning Rate:</b>\n",
    "Orginal blog post :: https://www.fast.ai/2018/08/10/fastai-diu-imagenet/\n",
    "<br/><br/>\n",
    "Keras implementaion Source code :: https://www.kaggle.com/dude431/keras-cyclic-lr\n",
    "<br/><br/>\n",
    "<b>Other references</b>\n",
    "https://towardsdatascience.com/adaptive-and-cyclical-learning-rates-using-pytorch-2bf904d18dee"
   ]
  },
  {
   "cell_type": "code",
   "execution_count": 0,
   "metadata": {
    "colab": {},
    "colab_type": "code",
    "id": "tqPRg8-r4IaO"
   },
   "outputs": [],
   "source": [
    "from keras.callbacks import Callback\n",
    "from keras import backend as K\n",
    "\n",
    "class CyclicLR(Callback):\n",
    "    def __init__(\n",
    "            self,base_lr=0.001,\n",
    "            max_lr=0.006,step_size=2000.,\n",
    "            mode='triangular',gamma=1.,\n",
    "            scale_fn=None,scale_mode='cycle'):\n",
    "        \n",
    "        super(CyclicLR, self).__init__()\n",
    "\n",
    "        if mode not in ['triangular', 'triangular2','exp_range']:\n",
    "            raise KeyError(\"mode must be one of 'triangular', \"\n",
    "                           \"'triangular2', or 'exp_range'\")\n",
    "        self.base_lr = base_lr\n",
    "        self.max_lr = max_lr\n",
    "        self.step_size = step_size\n",
    "        self.mode = mode\n",
    "        self.gamma = gamma\n",
    "        if scale_fn is None:\n",
    "            if self.mode == 'triangular':\n",
    "                self.scale_fn = lambda x: 1.\n",
    "                self.scale_mode = 'cycle'\n",
    "            elif self.mode == 'triangular2':\n",
    "                self.scale_fn = lambda x: 1 / (2.**(x - 1))\n",
    "                self.scale_mode = 'cycle'\n",
    "            elif self.mode == 'exp_range':\n",
    "                self.scale_fn = lambda x: gamma ** x\n",
    "                self.scale_mode = 'iterations'\n",
    "        else:\n",
    "            self.scale_fn = scale_fn\n",
    "            self.scale_mode = scale_mode\n",
    "        self.clr_iterations = 0.\n",
    "        self.trn_iterations = 0.\n",
    "        self.history = {}\n",
    "\n",
    "        self._reset()\n",
    "\n",
    "    def _reset(self, new_base_lr=None, new_max_lr=None,\n",
    "               new_step_size=None):\n",
    "        if new_base_lr is not None:\n",
    "            self.base_lr = new_base_lr\n",
    "        if new_max_lr is not None:\n",
    "            self.max_lr = new_max_lr\n",
    "        if new_step_size is not None:\n",
    "            self.step_size = new_step_size\n",
    "        self.clr_iterations = 0.\n",
    "        \n",
    "    def clr(self):\n",
    "        cycle = np.floor(1 + self.clr_iterations / (2 * self.step_size))\n",
    "        x = np.abs(self.clr_iterations / self.step_size - 2 * cycle + 1)\n",
    "        if self.scale_mode == 'cycle':\n",
    "            return self.base_lr + (self.max_lr - self.base_lr) * \\\n",
    "                np.maximum(0, (1 - x)) * self.scale_fn(cycle)\n",
    "        else:\n",
    "            return self.base_lr + (self.max_lr - self.base_lr) * \\\n",
    "                np.maximum(0, (1 - x)) * self.scale_fn(self.clr_iterations)\n",
    "\n",
    "    def on_train_begin(self, logs={}):\n",
    "        logs = logs or {}\n",
    "\n",
    "        if self.clr_iterations == 0:\n",
    "            K.set_value(self.model.optimizer.lr, self.base_lr)\n",
    "        else:\n",
    "            K.set_value(self.model.optimizer.lr, self.clr())\n",
    "\n",
    "    def on_batch_end(self, epoch, logs=None):\n",
    "\n",
    "        logs = logs or {}\n",
    "        self.trn_iterations += 1\n",
    "        self.clr_iterations += 1\n",
    "        K.set_value(self.model.optimizer.lr, self.clr())\n",
    "\n",
    "        self.history.setdefault(\n",
    "            'lr', []).append(\n",
    "            K.get_value(\n",
    "                self.model.optimizer.lr))\n",
    "        self.history.setdefault('iterations', []).append(self.trn_iterations)\n",
    "\n",
    "        for k, v in logs.items():\n",
    "            self.history.setdefault(k, []).append(v)\n",
    "\n",
    "    def on_epoch_end(self, epoch, logs=None):\n",
    "        logs = logs or {}\n",
    "        logs['lr'] = K.get_value(self.model.optimizer.lr)\n"
   ]
  },
  {
   "cell_type": "markdown",
   "metadata": {},
   "source": [
    "<b>References</b><br/>\n",
    "https://machinelearningmastery.com/attention-long-short-term-memory-recurrent-neural-networks/\n",
    "<br/><br/>\n",
    "<b>Keras implementation</b><br/>\n",
    "https://www.kaggle.com/qqgeogor/keras-lstm-attention-glove840b-lb-0-043"
   ]
  },
  {
   "cell_type": "markdown",
   "metadata": {},
   "source": [
    "<b>Attention Layer</b>\n",
    "\n",
    "Lets take a look at previous coventions like CountVectorizer and TFIDF Vectorizer to extract features from text, both worked well but they have their own disadvantages in case of CountVectorizer or Bag of Words representation it only takes into account the number of times the word occured in the document thus giving more importance to a word which occured more times. TFIDF solves this issue, tf–idf value increases proportionally to the number of times a word appears in the document and is offset by the number of documents in the corpus that contain the word that means it gives higher weightage to the words that occur very rare and low to more frequently occured thus TFIDF works best in most of the cases than norma bag of words but the major disadvantage is they don't consider the sequence thats where LSTM's/GRU/RNN came to place and performed very well by considering the sequence but we loose ability to give higher wieghtage to more important words. So what if we have LSTM'S/RNN/GRU have a capability to give much importance to words that are important thats where <b>Attention</b> mechanism is introduced. More details on this paper (https://arxiv.org/abs/1706.03762) and https://www.cs.cmu.edu/~./hovy/papers/16HLT-hierarchical-attention-networks.pdf.  "
   ]
  },
  {
   "cell_type": "markdown",
   "metadata": {},
   "source": [
    "<img src='s1.png'/>"
   ]
  },
  {
   "cell_type": "markdown",
   "metadata": {},
   "source": [
    "<img src='s2.png'/>"
   ]
  },
  {
   "cell_type": "markdown",
   "metadata": {},
   "source": [
    "\\begin{align}\n",
    "e_{t} & = \\tanh(W_a*h_t + b_a) \\\\\n",
    "\\alpha_{t} & = exp^{e_t} /(\\sum_{k=1}^t exp^{e_t}) \\\\ \n",
    "c & = \\sum_{k=1}^t \\alpha_k * h_k \\\\ \n",
    "\\end{align}"
   ]
  },
  {
   "cell_type": "markdown",
   "metadata": {},
   "source": [
    "e_t :: Output at state t. <br/>\n",
    "alpha_t :: Softmax(e_t).  <br/>\n",
    "c_t :: alpha_t * h_t.  <br/>\n",
    "c :: sum(c_t).  <br/>"
   ]
  },
  {
   "cell_type": "code",
   "execution_count": 0,
   "metadata": {
    "colab": {},
    "colab_type": "code",
    "id": "JPJuMOAh1l0b"
   },
   "outputs": [],
   "source": [
    "from keras import backend as K\n",
    "from keras.engine.topology import Layer\n",
    "from keras import initializers, regularizers, constraints\n",
    "import warnings\n",
    "warnings.filterwarnings('ignore')\n",
    "\n",
    "class Attention(Layer):\n",
    "    def __init__(self, step_dim,\n",
    "                 W_regularizer=None, b_regularizer=None,\n",
    "                 W_constraint=None, b_constraint=None,\n",
    "                 bias=True, **kwargs):\n",
    "        self.supports_masking = True\n",
    "        self.init = initializers.get('glorot_uniform')\n",
    "\n",
    "        self.W_regularizer = regularizers.get(W_regularizer)\n",
    "        self.b_regularizer = regularizers.get(b_regularizer)\n",
    "\n",
    "        self.W_constraint = constraints.get(W_constraint)\n",
    "        self.b_constraint = constraints.get(b_constraint)\n",
    "\n",
    "        self.bias = bias\n",
    "        self.step_dim = step_dim\n",
    "        self.features_dim = 0\n",
    "        super(Attention, self).__init__(**kwargs)\n",
    "\n",
    "    def build(self, input_shape):\n",
    "        assert len(input_shape) == 3\n",
    "\n",
    "        self.W = self.add_weight((input_shape[-1],),\n",
    "                                 initializer=self.init,\n",
    "                                 name='{}_W'.format(self.name),\n",
    "                                 regularizer=self.W_regularizer,\n",
    "                                 constraint=self.W_constraint)\n",
    "        self.features_dim = input_shape[-1]\n",
    "\n",
    "        if self.bias:\n",
    "            self.b = self.add_weight((input_shape[1],),\n",
    "                                     initializer='zero',\n",
    "                                     name='{}_b'.format(self.name),\n",
    "                                     regularizer=self.b_regularizer,\n",
    "                                     constraint=self.b_constraint)\n",
    "        else:\n",
    "            self.b = None\n",
    "\n",
    "        self.built = True\n",
    "\n",
    "    def compute_mask(self, input, input_mask=None):\n",
    "        return None\n",
    "\n",
    "    def call(self, x, mask=None):\n",
    "        features_dim = self.features_dim\n",
    "        step_dim = self.step_dim\n",
    "        \n",
    "        # calculate e_t\n",
    "        et = K.reshape(K.dot(K.reshape(x, (-1, features_dim)),\n",
    "                        K.reshape(self.W, (features_dim, 1))), (-1, step_dim))\n",
    "\n",
    "        if self.bias:\n",
    "            et += self.b\n",
    "        \n",
    "        # apply tanh activation\n",
    "        et = K.tanh(eij)\n",
    "        \n",
    "        # calculate exp of e_t\n",
    "        a = K.exp(et)\n",
    "\n",
    "        if mask is not None:\n",
    "            a *= K.cast(mask, K.floatx())\n",
    "        \n",
    "        # Apply softmax\n",
    "        a /= K.cast(K.sum(a, axis=1, keepdims=True) + K.epsilon(), K.floatx())\n",
    "\n",
    "        a = K.expand_dims(a)\n",
    "        weighted_input = x * a\n",
    "        # calculate sum\n",
    "        return K.sum(weighted_input, axis=1)\n",
    "\n",
    "    def compute_output_shape(self, input_shape):\n",
    "        return input_shape[0],  self.features_dim"
   ]
  },
  {
   "cell_type": "code",
   "execution_count": 25,
   "metadata": {
    "colab": {
     "base_uri": "https://localhost:8080/",
     "height": 887
    },
    "colab_type": "code",
    "id": "kGEp_VvL2Z1s",
    "outputId": "a06b1879-62e3-43ad-d2de-df85c3f05880"
   },
   "outputs": [
    {
     "name": "stdout",
     "output_type": "stream",
     "text": [
      "WARNING:tensorflow:From /usr/local/lib/python3.6/dist-packages/keras/backend/tensorflow_backend.py:541: The name tf.placeholder is deprecated. Please use tf.compat.v1.placeholder instead.\n",
      "\n",
      "WARNING:tensorflow:From /usr/local/lib/python3.6/dist-packages/keras/backend/tensorflow_backend.py:4432: The name tf.random_uniform is deprecated. Please use tf.random.uniform instead.\n",
      "\n",
      "WARNING:tensorflow:From /usr/local/lib/python3.6/dist-packages/keras/backend/tensorflow_backend.py:190: The name tf.get_default_session is deprecated. Please use tf.compat.v1.get_default_session instead.\n",
      "\n",
      "WARNING:tensorflow:From /usr/local/lib/python3.6/dist-packages/keras/backend/tensorflow_backend.py:197: The name tf.ConfigProto is deprecated. Please use tf.compat.v1.ConfigProto instead.\n",
      "\n",
      "WARNING:tensorflow:From /usr/local/lib/python3.6/dist-packages/keras/backend/tensorflow_backend.py:203: The name tf.Session is deprecated. Please use tf.compat.v1.Session instead.\n",
      "\n",
      "WARNING:tensorflow:From /usr/local/lib/python3.6/dist-packages/keras/backend/tensorflow_backend.py:207: The name tf.global_variables is deprecated. Please use tf.compat.v1.global_variables instead.\n",
      "\n",
      "WARNING:tensorflow:From /usr/local/lib/python3.6/dist-packages/keras/backend/tensorflow_backend.py:216: The name tf.is_variable_initialized is deprecated. Please use tf.compat.v1.is_variable_initialized instead.\n",
      "\n",
      "WARNING:tensorflow:From /usr/local/lib/python3.6/dist-packages/keras/backend/tensorflow_backend.py:223: The name tf.variables_initializer is deprecated. Please use tf.compat.v1.variables_initializer instead.\n",
      "\n",
      "WARNING:tensorflow:From /usr/local/lib/python3.6/dist-packages/keras/backend/tensorflow_backend.py:148: The name tf.placeholder_with_default is deprecated. Please use tf.compat.v1.placeholder_with_default instead.\n",
      "\n",
      "WARNING:tensorflow:From /usr/local/lib/python3.6/dist-packages/keras/backend/tensorflow_backend.py:3733: calling dropout (from tensorflow.python.ops.nn_ops) with keep_prob is deprecated and will be removed in a future version.\n",
      "Instructions for updating:\n",
      "Please use `rate` instead of `keep_prob`. Rate should be set to `rate = 1 - keep_prob`.\n",
      "WARNING:tensorflow:From /usr/local/lib/python3.6/dist-packages/keras/optimizers.py:793: The name tf.train.Optimizer is deprecated. Please use tf.compat.v1.train.Optimizer instead.\n",
      "\n",
      "WARNING:tensorflow:From /usr/local/lib/python3.6/dist-packages/keras/backend/tensorflow_backend.py:3657: The name tf.log is deprecated. Please use tf.math.log instead.\n",
      "\n",
      "WARNING:tensorflow:From /usr/local/lib/python3.6/dist-packages/tensorflow_core/python/ops/nn_impl.py:183: where (from tensorflow.python.ops.array_ops) is deprecated and will be removed in a future version.\n",
      "Instructions for updating:\n",
      "Use tf.where in 2.0, which has the same broadcast rule as np.where\n",
      "Model: \"sequential_1\"\n",
      "_________________________________________________________________\n",
      "Layer (type)                 Output Shape              Param #   \n",
      "=================================================================\n",
      "embedding_1 (Embedding)      (None, 60, 300)           53612700  \n",
      "_________________________________________________________________\n",
      "bidirectional_1 (Bidirection (None, 60, 128)           186880    \n",
      "_________________________________________________________________\n",
      "attention_1 (Attention)      (None, 128)               188       \n",
      "_________________________________________________________________\n",
      "dense_1 (Dense)              (None, 64)                8256      \n",
      "_________________________________________________________________\n",
      "dropout_1 (Dropout)          (None, 64)                0         \n",
      "_________________________________________________________________\n",
      "dense_2 (Dense)              (None, 32)                2080      \n",
      "_________________________________________________________________\n",
      "dense_3 (Dense)              (None, 1)                 33        \n",
      "=================================================================\n",
      "Total params: 53,810,137\n",
      "Trainable params: 197,437\n",
      "Non-trainable params: 53,612,700\n",
      "_________________________________________________________________\n"
     ]
    }
   ],
   "source": [
    "model = Sequential()\n",
    "model.add(embedding_layer)\n",
    "model.add(Bidirectional(LSTM(64, dropout=0.25, recurrent_dropout=0.25, return_sequences=True)))\n",
    "model.add(Attention(MAX_SEQUENCE_LENGTH))\n",
    "model.add(Dense(64, activation='elu'))\n",
    "model.add(Dropout(0.3))\n",
    "model.add(Dense(32, activation='elu'))\n",
    "model.add(Dense(1, activation='sigmoid'))\n",
    "\n",
    "model.compile(loss='binary_crossentropy',\n",
    "              optimizer='adam',\n",
    "              metrics=[get_f1])\n",
    "\n",
    "model.summary()"
   ]
  },
  {
   "cell_type": "code",
   "execution_count": 0,
   "metadata": {
    "colab": {},
    "colab_type": "code",
    "id": "PdcAL_Z55_Tp"
   },
   "outputs": [],
   "source": [
    "from keras.callbacks import ModelCheckpoint"
   ]
  },
  {
   "cell_type": "code",
   "execution_count": 0,
   "metadata": {
    "colab": {},
    "colab_type": "code",
    "id": "Q8NCYjHh5L3Z"
   },
   "outputs": [],
   "source": [
    "clr = CyclicLR(base_lr=0.001, max_lr=0.009,step_size=400, mode='triangular', gamma=0.99994)\n",
    "filepath=\"weights-improvement.hdf5\"\n",
    "checkpoint = ModelCheckpoint(filepath, monitor='val_get_f1', verbose=1, \\\n",
    "                             save_best_only=True, mode='max')\n",
    "\n",
    "callbacks_list = [checkpoint, clr]"
   ]
  },
  {
   "cell_type": "code",
   "execution_count": 28,
   "metadata": {
    "colab": {
     "base_uri": "https://localhost:8080/",
     "height": 1000
    },
    "colab_type": "code",
    "id": "iM7lGykJcVsD",
    "outputId": "40515c5c-099a-4217-e184-64b618090e24",
    "scrolled": false
   },
   "outputs": [
    {
     "name": "stdout",
     "output_type": "stream",
     "text": [
      "Train...\n",
      "WARNING:tensorflow:From /usr/local/lib/python3.6/dist-packages/keras/backend/tensorflow_backend.py:1033: The name tf.assign_add is deprecated. Please use tf.compat.v1.assign_add instead.\n",
      "\n",
      "WARNING:tensorflow:From /usr/local/lib/python3.6/dist-packages/keras/backend/tensorflow_backend.py:1020: The name tf.assign is deprecated. Please use tf.compat.v1.assign instead.\n",
      "\n",
      "Train on 640000 samples, validate on 274286 samples\n",
      "Epoch 1/25\n",
      "640000/640000 [==============================] - 114s 178us/step - loss: 0.1807 - get_f1: 0.3338 - val_loss: 0.1169 - val_get_f1: 0.5577\n",
      "\n",
      "Epoch 00001: val_get_f1 improved from -inf to 0.55773, saving model to weights-improvement.hdf5\n",
      "Epoch 2/25\n",
      "640000/640000 [==============================] - 111s 174us/step - loss: 0.1148 - get_f1: 0.5723 - val_loss: 0.1112 - val_get_f1: 0.5754\n",
      "\n",
      "Epoch 00002: val_get_f1 improved from 0.55773 to 0.57539, saving model to weights-improvement.hdf5\n",
      "Epoch 3/25\n",
      "640000/640000 [==============================] - 111s 174us/step - loss: 0.1078 - get_f1: 0.6113 - val_loss: 0.1045 - val_get_f1: 0.6424\n",
      "\n",
      "Epoch 00003: val_get_f1 improved from 0.57539 to 0.64237, saving model to weights-improvement.hdf5\n",
      "Epoch 4/25\n",
      "640000/640000 [==============================] - 111s 174us/step - loss: 0.1025 - get_f1: 0.6389 - val_loss: 0.1026 - val_get_f1: 0.6515\n",
      "\n",
      "Epoch 00004: val_get_f1 improved from 0.64237 to 0.65152, saving model to weights-improvement.hdf5\n",
      "Epoch 5/25\n",
      "640000/640000 [==============================] - 112s 174us/step - loss: 0.0979 - get_f1: 0.6563 - val_loss: 0.1020 - val_get_f1: 0.6548\n",
      "\n",
      "Epoch 00005: val_get_f1 improved from 0.65152 to 0.65482, saving model to weights-improvement.hdf5\n",
      "Epoch 6/25\n",
      "640000/640000 [==============================] - 112s 174us/step - loss: 0.0958 - get_f1: 0.6656 - val_loss: 0.1023 - val_get_f1: 0.6523\n",
      "\n",
      "Epoch 00006: val_get_f1 did not improve from 0.65482\n",
      "Epoch 7/25\n",
      "640000/640000 [==============================] - 112s 175us/step - loss: 0.0965 - get_f1: 0.6635 - val_loss: 0.1054 - val_get_f1: 0.6672\n",
      "\n",
      "Epoch 00007: val_get_f1 improved from 0.65482 to 0.66718, saving model to weights-improvement.hdf5\n",
      "Epoch 8/25\n",
      "640000/640000 [==============================] - 112s 175us/step - loss: 0.0963 - get_f1: 0.6632 - val_loss: 0.1070 - val_get_f1: 0.6170\n",
      "\n",
      "Epoch 00008: val_get_f1 did not improve from 0.66718\n",
      "Epoch 9/25\n",
      "640000/640000 [==============================] - 111s 174us/step - loss: 0.0934 - get_f1: 0.6731 - val_loss: 0.1041 - val_get_f1: 0.6697\n",
      "\n",
      "Epoch 00009: val_get_f1 improved from 0.66718 to 0.66966, saving model to weights-improvement.hdf5\n",
      "Epoch 10/25\n",
      "640000/640000 [==============================] - 111s 174us/step - loss: 0.0890 - get_f1: 0.6920 - val_loss: 0.1032 - val_get_f1: 0.6693\n",
      "\n",
      "Epoch 00010: val_get_f1 did not improve from 0.66966\n",
      "Epoch 11/25\n",
      "640000/640000 [==============================] - 111s 174us/step - loss: 0.0864 - get_f1: 0.7012 - val_loss: 0.1058 - val_get_f1: 0.6682\n",
      "\n",
      "Epoch 00011: val_get_f1 did not improve from 0.66966\n",
      "Epoch 12/25\n",
      "640000/640000 [==============================] - 111s 174us/step - loss: 0.0878 - get_f1: 0.6972 - val_loss: 0.1031 - val_get_f1: 0.6648\n",
      "\n",
      "Epoch 00012: val_get_f1 did not improve from 0.66966\n",
      "Epoch 13/25\n",
      "640000/640000 [==============================] - 111s 174us/step - loss: 0.0892 - get_f1: 0.6906 - val_loss: 0.1027 - val_get_f1: 0.6598\n",
      "\n",
      "Epoch 00013: val_get_f1 did not improve from 0.66966\n",
      "Epoch 14/25\n",
      "640000/640000 [==============================] - 111s 174us/step - loss: 0.0877 - get_f1: 0.6959 - val_loss: 0.1049 - val_get_f1: 0.6683\n",
      "\n",
      "Epoch 00014: val_get_f1 did not improve from 0.66966\n",
      "Epoch 15/25\n",
      "640000/640000 [==============================] - 111s 174us/step - loss: 0.0838 - get_f1: 0.7138 - val_loss: 0.1058 - val_get_f1: 0.6694\n",
      "\n",
      "Epoch 00015: val_get_f1 did not improve from 0.66966\n",
      "Epoch 16/25\n",
      "640000/640000 [==============================] - 112s 174us/step - loss: 0.0806 - get_f1: 0.7240 - val_loss: 0.1083 - val_get_f1: 0.6648\n",
      "\n",
      "Epoch 00016: val_get_f1 did not improve from 0.66966\n",
      "Epoch 17/25\n",
      "640000/640000 [==============================] - 111s 174us/step - loss: 0.0822 - get_f1: 0.7175 - val_loss: 0.1081 - val_get_f1: 0.6684\n",
      "\n",
      "Epoch 00017: val_get_f1 did not improve from 0.66966\n",
      "Epoch 18/25\n",
      "640000/640000 [==============================] - 111s 174us/step - loss: 0.0846 - get_f1: 0.7071 - val_loss: 0.1070 - val_get_f1: 0.6677\n",
      "\n",
      "Epoch 00018: val_get_f1 did not improve from 0.66966\n",
      "Epoch 19/25\n",
      "640000/640000 [==============================] - 111s 174us/step - loss: 0.0841 - get_f1: 0.7108 - val_loss: 0.1057 - val_get_f1: 0.6625\n",
      "\n",
      "Epoch 00019: val_get_f1 did not improve from 0.66966\n",
      "Epoch 20/25\n",
      "640000/640000 [==============================] - 111s 174us/step - loss: 0.0808 - get_f1: 0.7227 - val_loss: 0.1054 - val_get_f1: 0.6671\n",
      "\n",
      "Epoch 00020: val_get_f1 did not improve from 0.66966\n",
      "Epoch 21/25\n",
      "640000/640000 [==============================] - 111s 174us/step - loss: 0.0776 - get_f1: 0.7355 - val_loss: 0.1098 - val_get_f1: 0.6625\n",
      "\n",
      "Epoch 00021: val_get_f1 did not improve from 0.66966\n",
      "Epoch 22/25\n",
      "640000/640000 [==============================] - 111s 174us/step - loss: 0.0787 - get_f1: 0.7314 - val_loss: 0.1060 - val_get_f1: 0.6469\n",
      "\n",
      "Epoch 00022: val_get_f1 did not improve from 0.66966\n",
      "Epoch 23/25\n",
      "640000/640000 [==============================] - 112s 174us/step - loss: 0.0816 - get_f1: 0.7185 - val_loss: 0.1088 - val_get_f1: 0.6655\n",
      "\n",
      "Epoch 00023: val_get_f1 did not improve from 0.66966\n",
      "Epoch 24/25\n",
      "640000/640000 [==============================] - 111s 174us/step - loss: 0.0815 - get_f1: 0.7200 - val_loss: 0.1073 - val_get_f1: 0.6635\n",
      "\n",
      "Epoch 00024: val_get_f1 did not improve from 0.66966\n",
      "Epoch 25/25\n",
      "640000/640000 [==============================] - 111s 174us/step - loss: 0.0791 - get_f1: 0.7282 - val_loss: 0.1084 - val_get_f1: 0.6649\n",
      "\n",
      "Epoch 00025: val_get_f1 did not improve from 0.66966\n"
     ]
    },
    {
     "data": {
      "text/plain": [
       "<keras.callbacks.History at 0x7f7f0f19dc18>"
      ]
     },
     "execution_count": 28,
     "metadata": {
      "tags": []
     },
     "output_type": "execute_result"
    }
   ],
   "source": [
    "print('Train...')\n",
    "model.fit(x_train, y_train,\n",
    "          batch_size=2048*2,\n",
    "          epochs=25,\n",
    "          validation_split=0.3, callbacks=callbacks_list)"
   ]
  },
  {
   "cell_type": "code",
   "execution_count": 29,
   "metadata": {
    "colab": {
     "base_uri": "https://localhost:8080/",
     "height": 119
    },
    "colab_type": "code",
    "id": "2EK-Xp6EPEVR",
    "outputId": "5b09d062-ae03-46ee-a708-92b8834feb76"
   },
   "outputs": [
    {
     "data": {
      "text/plain": [
       "{'amsgrad': False,\n",
       " 'beta_1': 0.8999999761581421,\n",
       " 'beta_2': 0.9990000128746033,\n",
       " 'decay': 0.0,\n",
       " 'epsilon': 1e-07,\n",
       " 'lr': 0.0024999999441206455}"
      ]
     },
     "execution_count": 29,
     "metadata": {
      "tags": []
     },
     "output_type": "execute_result"
    }
   ],
   "source": [
    "model.optimizer.get_config()"
   ]
  },
  {
   "cell_type": "code",
   "execution_count": 0,
   "metadata": {
    "colab": {},
    "colab_type": "code",
    "id": "pb7Oie2EE2uj"
   },
   "outputs": [],
   "source": [
    "model.load_weights('weights-improvement.hdf5')"
   ]
  },
  {
   "cell_type": "code",
   "execution_count": 36,
   "metadata": {
    "colab": {
     "base_uri": "https://localhost:8080/",
     "height": 68
    },
    "colab_type": "code",
    "id": "n8ifaRVz4Zah",
    "outputId": "b722b4d6-0121-4012-cef6-04e7b90ce5c1"
   },
   "outputs": [
    {
     "name": "stdout",
     "output_type": "stream",
     "text": [
      "391836/391836 [==============================] - 30s 77us/step\n",
      "Test Loss: 0.10312879059361556\n",
      "Test F1 Score: 0.6746514823591312\n"
     ]
    }
   ],
   "source": [
    "score, acc = model.evaluate(x_val, y_val,\n",
    "                            batch_size=2048)\n",
    "print('Test Loss:', score)\n",
    "print('Test F1 Score:', acc)"
   ]
  },
  {
   "cell_type": "code",
   "execution_count": 37,
   "metadata": {
    "colab": {
     "base_uri": "https://localhost:8080/",
     "height": 295
    },
    "colab_type": "code",
    "id": "_nm8paz2Riq2",
    "outputId": "8a83301c-8c8d-4aa0-e48a-d7e1c297eca6"
   },
   "outputs": [
    {
     "data": {
      "image/png": "[encoded data removed]",
      "text/plain": [
       "<Figure size 432x288 with 1 Axes>"
      ]
     },
     "metadata": {
      "tags": []
     },
     "output_type": "display_data"
    }
   ],
   "source": [
    "# Plot training & validation loss values\n",
    "plt.plot(model.history.history['loss'])\n",
    "plt.plot(model.history.history['val_loss'])\n",
    "plt.title('Model loss')\n",
    "plt.ylabel('Loss')\n",
    "plt.xlabel('Epoch')\n",
    "plt.legend(['Train', 'Val'])\n",
    "plt.show()"
   ]
  },
  {
   "cell_type": "code",
   "execution_count": 38,
   "metadata": {
    "colab": {
     "base_uri": "https://localhost:8080/",
     "height": 295
    },
    "colab_type": "code",
    "id": "FQECKDxFo5IG",
    "outputId": "33482714-6f6e-4fd9-d1bb-c3b227d64fb3"
   },
   "outputs": [
    {
     "data": {
      "image/png": "[encoded data removed]",
      "text/plain": [
       "<Figure size 432x288 with 1 Axes>"
      ]
     },
     "metadata": {
      "tags": []
     },
     "output_type": "display_data"
    }
   ],
   "source": [
    "plt.plot(model.history.history['get_f1'])\n",
    "plt.plot(model.history.history['val_get_f1'])\n",
    "plt.title('Model F1')\n",
    "plt.ylabel('f1')\n",
    "plt.xlabel('Epoch')\n",
    "plt.legend(['Train', 'Val'])\n",
    "plt.show()"
   ]
  },
  {
   "cell_type": "markdown",
   "metadata": {},
   "source": [
    "### Conclusion"
   ]
  },
  {
   "cell_type": "markdown",
   "metadata": {},
   "source": [
    "1. From figure 1 the loss of the model has not changed a lot after 5 epocs on our validation set but training loss is decreased as epochs increased.\n",
    "2. From figure 2 F1 score of validation set does not change much just fluctuated between 0.64 and 0.67 but training set f1 score constantly increased upto 0.75 as number of epochs increases.\n",
    "3. From the abpve figure by looking at the f1 score after 9th epoch validation set f1 score became constant and training set f1 score increased indicating the model is overfitting.\n",
    "4. With bidirectional lstm using attention layer we are able to get 0.675 f1 score on our test set. "
   ]
  }
 ],
 "metadata": {
  "accelerator": "GPU",
  "colab": {
   "collapsed_sections": [],
   "machine_shape": "hm",
   "name": "QuoraInc.ipynb",
   "provenance": []
  },
  "kernelspec": {
   "display_name": "Python 3",
   "language": "python",
   "name": "python3"
  },
  "language_info": {
   "codemirror_mode": {
    "name": "ipython",
    "version": 3
   },
   "file_extension": ".py",
   "mimetype": "text/x-python",
   "name": "python",
   "nbconvert_exporter": "python",
   "pygments_lexer": "ipython3",
   "version": "3.6.5"
  }
 },
 "nbformat": 4,
 "nbformat_minor": 1
}
